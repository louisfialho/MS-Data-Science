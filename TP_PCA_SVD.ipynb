{
 "cells": [
  {
   "cell_type": "code",
   "execution_count": 1,
   "metadata": {},
   "outputs": [],
   "source": [
    "import numpy as np\n",
    "from numpy import linalg as LA\n",
    "from numpy import array\n",
    "\n",
    "import math  \n",
    "from matplotlib import pyplot as plt\n",
    "import pandas as pd\n",
    "\n",
    "from scipy.linalg import svd\n",
    "\n",
    "from sklearn import preprocessing\n",
    "from sklearn.preprocessing import OneHotEncoder\n",
    "from sklearn.model_selection import train_test_split\n",
    "from sklearn.metrics import r2_score\n",
    "from sklearn.metrics import mean_squared_error\n",
    "from sklearn.linear_model import LinearRegression\n",
    "from sklearn.pipeline import Pipeline\n",
    "from sklearn.preprocessing import StandardScaler\n",
    "from sklearn.compose import TransformedTargetRegressor\n",
    "from sklearn.compose import ColumnTransformer"
   ]
  },
  {
   "cell_type": "code",
   "execution_count": null,
   "metadata": {},
   "outputs": [],
   "source": [
    "# improvements\n",
    "\n",
    "# EXERCICE 5\n",
    "# split cat and num columns, create 2 pipelines (one for cat and one for num), \n",
    "# using a preprocessor like in this article \n",
    "# https://medium.com/@oluwabukunmige/implementing-linear-regression-with-sci-kit-learn-b6f87edc3150\n",
    "\n",
    "# VIF Factor above 10 indicates multicollinearity. cyclinders has highesht VIF factor.\n",
    "# Ridge regression (+ CV?)\n",
    "# Lasso regression\n",
    "# https://medium.com/analytics-vidhya/multiple-linear-regression-7727a012ff93\n",
    "# https://medium.com/@powusu381/multiple-regression-in-python-using-scikit-learn-predicting-the-miles-per-gallon-mpg-of-cars-4c8e512234be"
   ]
  },
  {
   "cell_type": "markdown",
   "metadata": {},
   "source": [
    "Exercice 1"
   ]
  },
  {
   "cell_type": "code",
   "execution_count": null,
   "metadata": {},
   "outputs": [],
   "source": [
    "X = random.normal(loc=0, scale=5, size=(2,2))"
   ]
  },
  {
   "cell_type": "markdown",
   "metadata": {},
   "source": [
    "Exercice 2"
   ]
  },
  {
   "cell_type": "markdown",
   "metadata": {},
   "source": [
    "3) Choose three non-Gaussian probability distributions, with mean 0 and variance 2, and\n",
    "write a function that that takes as input n, p and the distribution name, and creates a\n",
    "matrix X P R nˆp with entries generated (i.i.d.) according to this distribution."
   ]
  },
  {
   "cell_type": "markdown",
   "metadata": {},
   "source": [
    "The 3 non-Gaussian proba distribution with mean 0 and var 2 we choose are <br>\n",
    "A uniform distribution over [-sqrt(6), sqrt(6)] (with sqrt(6) ~ 2.45) <br>\n",
    "A Laplace distribution with mean mu=0 and b=1 <br>\n",
    "A Logistic distribution with mean mu=0 and s=sqrt(6)/pi"
   ]
  },
  {
   "cell_type": "code",
   "execution_count": null,
   "metadata": {},
   "outputs": [],
   "source": [
    "def generator(n, p, distribution):\n",
    "    if distribution == \"uniform\":\n",
    "        return np.random.uniform(-math.sqrt(6), math.sqrt(6), (n, p))\n",
    "    elif distribution == \"laplace\":\n",
    "        return np.random.laplace(0, 1, (n, p))\n",
    "    elif distribution == \"logistic\":\n",
    "        return np.random.logistic(0, math.sqrt(6)/math.pi, (n,p))\n",
    "    else:\n",
    "        return \"Choose distribution in 'uniform', 'laplace', or 'logistic'\""
   ]
  },
  {
   "cell_type": "markdown",
   "metadata": {},
   "source": [
    "4) Display on one single graph the singular values of X for n “ 1000, and p “\n",
    "200, 500, 1000, 2000 for the three distributions chosen"
   ]
  },
  {
   "cell_type": "code",
   "execution_count": null,
   "metadata": {},
   "outputs": [],
   "source": [
    "# Générer X1, X2, X3, X4 avec n = 1000 et p = 200, 500, 1000, 2000\n",
    "# REFACTOR, E.G WITH A FOR LOOP?\n",
    "X1 = generator(1000, 200, \"uniform\")\n",
    "X2 = generator(1000, 500, \"uniform\")\n",
    "X3 = generator(1000, 1000, \"uniform\")\n",
    "X4 = generator(1000, 2000, \"uniform\")\n",
    "# Obtenir S1, S2, S3, S4 la matrice SVD comportant les singular values de X1, X2, X3, X4\n",
    "# REFACTOR, E.G WITH A FOR LOOP?\n",
    "S1 = np.linalg.svd(X1, compute_uv = False)\n",
    "S2 = np.linalg.svd(X2, compute_uv = False)\n",
    "S3 = np.linalg.svd(X3, compute_uv = False)\n",
    "S4 = np.linalg.svd(X4, compute_uv = False)\n",
    "# Plot \n",
    "# REFACTOR, E.G WITH A FOR LOOP?\n",
    "plt.plot(S1, label = \"p=200\")\n",
    "plt.plot(S2, label = \"p=500\")\n",
    "plt.plot(S3, label = \"p=1000\")\n",
    "plt.plot(S4, label = \"p=2000\")\n",
    "plt.xlabel('Singular value index')\n",
    "plt.ylabel('Singular value value')\n",
    "plt.title('Singular values of X Mn,p uniform')\n",
    "plt.legend()\n",
    "# Rajouter titre, nom des axes, nom des lines (créer DF?)"
   ]
  },
  {
   "cell_type": "code",
   "execution_count": null,
   "metadata": {},
   "outputs": [],
   "source": [
    "# Générer X1, X2, X3, X4 avec n = 1000 et p = 200, 500, 1000, 2000\n",
    "# REFACTOR, E.G WITH A FOR LOOP?\n",
    "Y1 = generator(1000, 200, \"laplace\")\n",
    "Y2 = generator(1000, 500, \"laplace\")\n",
    "Y3 = generator(1000, 1000, \"laplace\")\n",
    "Y4 = generator(1000, 2000, \"laplace\")\n",
    "# Obtenir S1, S2, S3, S4 la matrice SVD comportant les singular values de X1, X2, X3, X4\n",
    "# REFACTOR, E.G WITH A FOR LOOP?\n",
    "S1 = np.linalg.svd(Y1, compute_uv = False)\n",
    "S2 = np.linalg.svd(Y2, compute_uv = False)\n",
    "S3 = np.linalg.svd(Y3, compute_uv = False)\n",
    "S4 = np.linalg.svd(Y4, compute_uv = False)\n",
    "# Plot \n",
    "# REFACTOR, E.G WITH A FOR LOOP?\n",
    "plt.plot(S1, label = \"p=200\")\n",
    "plt.plot(S2, label = \"p=500\")\n",
    "plt.plot(S3, label = \"p=1000\")\n",
    "plt.plot(S4, label = \"p=2000\")\n",
    "plt.xlabel('Singular value index')\n",
    "plt.ylabel('Singular value value')\n",
    "plt.title('Singular values of X Mn,p Laplace')\n",
    "plt.legend()\n",
    "# Rajouter titre, nom des axes, nom des lines (créer DF?)"
   ]
  },
  {
   "cell_type": "code",
   "execution_count": null,
   "metadata": {},
   "outputs": [],
   "source": [
    "# Générer X1, X2, X3, X4 avec n = 1000 et p = 200, 500, 1000, 2000\n",
    "# REFACTOR, E.G WITH A FOR LOOP?\n",
    "Z1 = generator(1000, 200, \"logistic\")\n",
    "Z2 = generator(1000, 500, \"logistic\")\n",
    "Z3 = generator(1000, 1000, \"logistic\")\n",
    "Z4 = generator(1000, 2000, \"logistic\")\n",
    "# Obtenir S1, S2, S3, S4 la matrice SVD comportant les singular values de X1, X2, X3, X4\n",
    "# REFACTOR, E.G WITH A FOR LOOP?\n",
    "S1 = np.linalg.svd(Z1, compute_uv = False)\n",
    "S2 = np.linalg.svd(Z2, compute_uv = False)\n",
    "S3 = np.linalg.svd(Z3, compute_uv = False)\n",
    "S4 = np.linalg.svd(Z4, compute_uv = False)\n",
    "# Plot \n",
    "# REFACTOR, E.G WITH A FOR LOOP?\n",
    "plt.plot(S1, label = \"p=200\")\n",
    "plt.plot(S2, label = \"p=500\")\n",
    "plt.plot(S3, label = \"p=1000\")\n",
    "plt.plot(S4, label = \"p=2000\")\n",
    "plt.xlabel('Singular value index')\n",
    "plt.ylabel('Singular value value')\n",
    "plt.title('Singular values of X Mn,p logistic')\n",
    "plt.legend()\n",
    "# Rajouter titre, nom des axes, nom des lines (créer DF?)"
   ]
  },
  {
   "cell_type": "markdown",
   "metadata": {},
   "source": [
    "5) Display on one single graph the spectrum (i.e. the set of eigen values) of XJX{n for\n",
    "n “ 1000, and p “ 200, 500, 1000, 2000. Comment."
   ]
  },
  {
   "cell_type": "code",
   "execution_count": null,
   "metadata": {},
   "outputs": [],
   "source": [
    "# Calculate X1_prime, X2_prime, X3_prime, X4_prime\n",
    "n = 1000\n",
    "X1_prime = X1.T @ X1 / n\n",
    "X2_prime = X2.T @ X2 / n\n",
    "X3_prime = X3.T @ X3 / n\n",
    "X4_prime = X4.T @ X4 / n\n",
    "# Get the vectors of eigen values (sorted in desc order) W1, W2, W3, W4\n",
    "W1 = LA.eig(X1_prime)[0]\n",
    "W1[::-1].sort()\n",
    "W2 = LA.eig(X2_prime)[0]\n",
    "W2[::-1].sort()\n",
    "W3 = LA.eig(X3_prime)[0]\n",
    "W3[::-1].sort()\n",
    "W4 = LA.eig(X4_prime)[0]\n",
    "W4[::-1].sort()\n",
    "# Plot\n",
    "plt.plot(W1, label = \"p=200\")\n",
    "plt.plot(W2, label = \"p=500\")\n",
    "plt.plot(W3, label = \"p=1000\")\n",
    "plt.plot(W4, label = \"p=2000\")\n",
    "plt.title(\"Eigenvalues of X.T@X/n for different number of columns\")\n",
    "plt.xlabel(\"Eigenvalue index\")\n",
    "plt.ylabel(\"Eigenvalue value\")\n",
    "plt.xlim(0, 1000)\n",
    "plt.legend()"
   ]
  },
  {
   "cell_type": "code",
   "execution_count": null,
   "metadata": {},
   "outputs": [],
   "source": [
    "# Calculate X1_prime, X2_prime, X3_prime, X4_prime\n",
    "n = 1000\n",
    "Y1_prime = Y1.T @ Y1 / n\n",
    "Y2_prime = Y2.T @ Y2 / n\n",
    "Y3_prime = Y3.T @ Y3 / n\n",
    "Y4_prime = Y4.T @ Y4 / n\n",
    "# Get the vectors of eigen values (sorted in desc order) W1, W2, W3, W4\n",
    "W1 = LA.eig(Y1_prime)[0]\n",
    "W1[::-1].sort()\n",
    "W2 = LA.eig(Y2_prime)[0]\n",
    "W2[::-1].sort()\n",
    "W3 = LA.eig(Y3_prime)[0]\n",
    "W3[::-1].sort()\n",
    "W4 = LA.eig(Y4_prime)[0]\n",
    "W4[::-1].sort()\n",
    "# Plot\n",
    "plt.plot(W1, label = \"p=200\")\n",
    "plt.plot(W2, label = \"p=500\")\n",
    "plt.plot(W3, label = \"p=1000\")\n",
    "plt.plot(W4, label = \"p=2000\")\n",
    "plt.title(\"Eigenvalues of X.T@X/n for different number of columns\")\n",
    "plt.xlabel(\"Eigenvalue index\")\n",
    "plt.ylabel(\"Eigenvalue value\")\n",
    "plt.xlim(0, 1000)\n",
    "plt.legend()"
   ]
  },
  {
   "cell_type": "code",
   "execution_count": null,
   "metadata": {},
   "outputs": [],
   "source": [
    "# Calculate X1_prime, X2_prime, X3_prime, X4_prime\n",
    "n = 1000\n",
    "Z1_prime = Z1.T @ Z1 / n\n",
    "Z2_prime = Z2.T @ Z2 / n\n",
    "Z3_prime = Z3.T @ Z3 / n\n",
    "Z4_prime = Z4.T @ Z4 / n\n",
    "# Get the vectors of eigen values (sorted in desc order) W1, W2, W3, W4\n",
    "W1 = LA.eig(Z1_prime)[0]\n",
    "W1[::-1].sort()\n",
    "W2 = LA.eig(Z2_prime)[0]\n",
    "W2[::-1].sort()\n",
    "W3 = LA.eig(Z3_prime)[0]\n",
    "W3[::-1].sort()\n",
    "W4 = LA.eig(Z4_prime)[0]\n",
    "W4[::-1].sort()\n",
    "# Plot\n",
    "plt.plot(W1, label = \"p=200\")\n",
    "plt.plot(W2, label = \"p=500\")\n",
    "plt.plot(W3, label = \"p=1000\")\n",
    "plt.plot(W4, label = \"p=2000\")\n",
    "plt.title(\"Eigenvalues of X.T@X/n for different number of columns\")\n",
    "plt.xlabel(\"Eigenvalue index\")\n",
    "plt.ylabel(\"Eigenvalue value\")\n",
    "plt.xlim(0, 1000)\n",
    "plt.legend()"
   ]
  },
  {
   "cell_type": "markdown",
   "metadata": {},
   "source": [
    "X matrix of Mn,p is distributed with a uniform probability and has mean 0 and var 2\n",
    "Y matrix of Mn,p is distributed with a Laplace probability and has mean 0 and var 2\n",
    "Z matrix of Mn,p is distributed with a logistic probability and has mean 0 and var 2\n",
    "We fix n=1000 and increase p (from 200, 500, 1000 and 2000).\n",
    "On the first graph, we plot the singular values of X, Y, Z, for several values of p (ie the sqrts of the eigen values of XTX, YTY, ZTZ)\n",
    "For all 3 distributions, we get the same plot.\n",
    "The # of non negative singular values = the # of columns.\n",
    "The values of those singluar values have greater amplitude as p increases\n",
    "The singular values are \"linear\"\n",
    "\n",
    "On the second graph, we plot the eigenvalues of XTX/n, YTY/n, ZTZ/N, ie 1/n * the eigevalues of XTX etc\n",
    "We get the same plot for all 3 distributions\n",
    "The eigenvalues are \"quadratic\"?"
   ]
  },
  {
   "cell_type": "markdown",
   "metadata": {},
   "source": [
    "Exercice 3"
   ]
  },
  {
   "cell_type": "markdown",
   "metadata": {},
   "source": [
    "6)"
   ]
  },
  {
   "cell_type": "code",
   "execution_count": null,
   "metadata": {},
   "outputs": [],
   "source": [
    "# Scaler au cas n, p diff et >2"
   ]
  },
  {
   "cell_type": "code",
   "execution_count": null,
   "metadata": {},
   "outputs": [],
   "source": [
    "def power_method(X, n, u, v):\n",
    "    for j in range(0, n):\n",
    "        u = X @ v \n",
    "        v = X.T @ u\n",
    "        v = v/LA.norm(v)\n",
    "        u = u/LA.norm(u)\n",
    "    return (u,v)"
   ]
  },
  {
   "cell_type": "code",
   "execution_count": null,
   "metadata": {},
   "outputs": [],
   "source": [
    "import numpy as np\n",
    "from numpy import random\n",
    "\n",
    "n = 100\n",
    "p = 2000\n",
    "n_iter = 250\n",
    "\n",
    "X = np.random.normal(loc=0, scale=5, size=(n, p)) # Mn,p\n",
    "# X = np.array([[ 0.27572328, -7.87982259, -2.72355202],\n",
    "    #   [-7.21876073, -9.8340995 , -0.32823418]]) \n",
    "u = np.random.rand(n, 1) # Mn,1\n",
    "# u = np.array([[0.234234, 0.342980]]).T # Mn,1\n",
    "v = np.random.rand(p, 1) # Mp,1\n",
    "# v = np.array([[0.9841, 0.5891, 0.3492]]).T # Mp,1\n",
    "power_method(X, n_iter, u, v)"
   ]
  },
  {
   "cell_type": "code",
   "execution_count": null,
   "metadata": {},
   "outputs": [],
   "source": [
    "#Is it true that the output u, v from the algorithm converge to the singular vector associated to the largest\n",
    "#singular value of X (check by computing these with numpy built in functions)\n",
    "\n",
    "U, s, VT = svd(X)\n",
    "print(U) # Left singular vectors as columns\n",
    "print(s) # Diagonal matrix containing the singular values of X, ordered from largest to smallest\n",
    "print(VT.transpose()) # Matrix containing the right singular vectors  AS ROWS (so we transpose it)\n",
    "# (associated to the sing values..), ordered \n",
    "# from the sing vect associated to the largest sing value etc"
   ]
  },
  {
   "cell_type": "markdown",
   "metadata": {},
   "source": [
    "the columns of the matrix V are the eigenvectors of the matrix AT A\n",
    "The columns of the matrix U are thus the eigenvectors of the matrix A AT\n",
    "The columns of U and the columns of V are called the left-singular vectors and the right-singular vectors of A, respectively."
   ]
  },
  {
   "cell_type": "code",
   "execution_count": null,
   "metadata": {},
   "outputs": [],
   "source": [
    "# convergence de u\n",
    "# on crée un array qui contient u pr 10 itérations\n",
    "def iter_u(X, n, u, v):\n",
    "    iter_u = []\n",
    "    for j in range(0, n):\n",
    "        u = X @ v \n",
    "        v = X.T @ u\n",
    "        v = v/LA.norm(v)\n",
    "        u = u/LA.norm(u)\n",
    "        iter_u.append(u)\n",
    "    return(iter_u)\n",
    "iter_u = iter_u(X, n_iter, u, v)\n",
    "iter_u = np.absolute(iter_u) # Delete this extra line\n",
    "print(iter_u)\n",
    "\n",
    "# on crée un array limit_u qui contient 10 fois la limite \n",
    "limit_u = U[:,0].reshape(n, 1)\n",
    "limit_u = np.full(shape=(n_iter, n, 1), fill_value=limit_u)\n",
    "limit_u = np.absolute(limit_u)\n",
    "print(limit_u)\n",
    "\n",
    "# on soustrait la val abs de u à la val abs du singular vector (et prend sa L2 norm)\n",
    "conv_u = iter_u - limit_u\n",
    "print(conv_u)\n",
    "norm_conv_u = LA.norm(conv_u, axis=1)\n",
    "print(norm_conv_u)\n",
    "# on plot cet array\n",
    "plt.plot(norm_conv_u)\n",
    "plt.title(\"Convergence of u to the left-singular vector of X\")\n",
    "plt.xlabel(\"Number of iterations of the power algorithm\")\n",
    "plt.ylabel(\"L2-Norm of u - u_limit\")"
   ]
  },
  {
   "cell_type": "code",
   "execution_count": null,
   "metadata": {},
   "outputs": [],
   "source": [
    "# convergence de v\n",
    "# on crée un array qui contient u pr 10 itérations\n",
    "def iter_v(X, n, u, v):\n",
    "    iter_v = []\n",
    "    for j in range(0, n):\n",
    "        u = X @ v \n",
    "        v = X.T @ u\n",
    "        v = v/LA.norm(v)\n",
    "        u = u/LA.norm(u)\n",
    "        iter_v.append(v)\n",
    "    return(iter_v)\n",
    "iter_v = iter_v(X, n_iter, u, v)\n",
    "iter_v = np.absolute(iter_v) # Delete this extra line\n",
    "print(iter_v)\n",
    "# on crée un array limit_v qui contient 10 fois la limite \n",
    "limit_v = VT.transpose()[:,0].reshape(p,1)\n",
    "limit_v = np.full(shape=(n_iter, p,1), fill_value=limit_v)\n",
    "limit_v = np.absolute(limit_v)\n",
    "print(limit_v)\n",
    "# on soustrait la val abs de u à la val abs du singular vector (et prend sa L2 norm)\n",
    "conv_v = iter_v - limit_v\n",
    "print(conv_v)\n",
    "norm_conv_v = LA.norm(conv_v, axis=1)\n",
    "print(norm_conv_v)\n",
    "# on plot cet array\n",
    "plt.plot(norm_conv_v)\n",
    "plt.title(\"Convergence of v to the right-singular vector of X\")\n",
    "plt.xlabel(\"Number of iterations of the power algorithm\")\n",
    "plt.ylabel(\"L2-Norm of v - v_limit\")"
   ]
  },
  {
   "cell_type": "markdown",
   "metadata": {},
   "source": [
    "8) Provide two sets of initialization vectors leading to different limits for this algorithm ;\n",
    "explain how they are related."
   ]
  },
  {
   "cell_type": "code",
   "execution_count": null,
   "metadata": {},
   "outputs": [],
   "source": [
    "# We choose an initialization vector u that is orthogonal to the left singular vector?"
   ]
  },
  {
   "cell_type": "markdown",
   "metadata": {},
   "source": [
    "9) Provide a way to approximate the largest singular value of X using the power method."
   ]
  },
  {
   "cell_type": "code",
   "execution_count": null,
   "metadata": {},
   "outputs": [],
   "source": [
    "# X une matrice déf avec loi norm\n",
    "# La power method permet d'obtenir les left et right singular vectors de la plus grande singular val de X\n",
    "# Let ui and vi be left-singular vector and the right-singular vector associated with σi then, Avi=σiui and ATui=σivi."
   ]
  },
  {
   "cell_type": "code",
   "execution_count": null,
   "metadata": {},
   "outputs": [],
   "source": [
    "def power_method(X, n, u, v):\n",
    "    for j in range(0, n):\n",
    "        u = X @ v \n",
    "        v = X.T @ u\n",
    "        v = v/LA.norm(v)\n",
    "        u = u/LA.norm(u)\n",
    "    return (u,v)"
   ]
  },
  {
   "cell_type": "code",
   "execution_count": null,
   "metadata": {},
   "outputs": [],
   "source": [
    "import numpy as np\n",
    "from numpy import random\n",
    "\n",
    "n = 100\n",
    "p = 2000\n",
    "n_iter = 300 # LE NOMBRE D'ITÉRATIONS EST TRES IMPORTANT\n",
    "# PR OBTENIR UNE BONNE APPROXIMIATION DE LA PLUS GRANDE SINGULAR VALUE\n",
    "\n",
    "X = np.random.normal(loc=0, scale=5, size=(n, p)) # Mn,p\n",
    "u = np.random.rand(n, 1) # Mn,1\n",
    "v = np.random.rand(p, 1) # Mp,1\n",
    "u, v = power_method(X, n_iter, u, v)\n",
    "print(u, v) # left and right singular vectors ui and vi of the largest eigen value"
   ]
  },
  {
   "cell_type": "code",
   "execution_count": null,
   "metadata": {},
   "outputs": [],
   "source": [
    "sigma = (X @ v) / u\n",
    "print(sigma[0])"
   ]
  },
  {
   "cell_type": "code",
   "execution_count": null,
   "metadata": {},
   "outputs": [],
   "source": [
    "sigma = (X.T @ u) / v\n",
    "print(sigma[0])"
   ]
  },
  {
   "cell_type": "code",
   "execution_count": null,
   "metadata": {},
   "outputs": [],
   "source": [
    "#Is it true that the output u, v from the algorithm converge to the singular vector associated to the largest\n",
    "#singular value of X (check by computing these with numpy built in functions)\n",
    "\n",
    "U, s, VT = svd(X)\n",
    "print(U) # Left singular vectors as columns\n",
    "print(s) # Diagonal matrix containing the singular values of X, ordered from largest to smallest\n",
    "print(VT.transpose()) # Matrix containing the right singular vectors  AS ROWS (so we transpose it)\n",
    "# (associated to the sing values..), ordered \n",
    "# from the sing vect associated to the largest sing value etc"
   ]
  },
  {
   "cell_type": "code",
   "execution_count": null,
   "metadata": {},
   "outputs": [],
   "source": [
    "np.isclose(sigma[0], s[0]) # we approximate the largest singular value"
   ]
  },
  {
   "cell_type": "markdown",
   "metadata": {},
   "source": [
    "NB. On note que le nombre d'itérations n_iter doit être suffisamment élevé pour obtenir une approximation correcte\n",
    "Pour ce faire, on détermine n_iter en utilisant les représentations graphiques obtenu à la question 7\n",
    "Pour améliorer cet algorithme on chercherait à déterminer n automatiquement"
   ]
  },
  {
   "cell_type": "markdown",
   "metadata": {},
   "source": [
    "10) Bonus : build upon the power method to provide an algorithm that can approximate the\n",
    "second largest singular value of X (without using an SVD function)"
   ]
  },
  {
   "cell_type": "code",
   "execution_count": null,
   "metadata": {},
   "outputs": [],
   "source": [
    "# refactorer pr n'avoir qu'une fonction qui donne iter_u iter_v\n",
    "# Ne pas prendre la valeur abs?\n",
    "# Créer fonctions intermediaires\n",
    "# plot les 2 sur même graphe\n",
    "# find the optimal number of iterations (algo)\n",
    "# can you show it mathematically\n",
    "# https://www.cs.yale.edu/homes/el327/datamining2013aFiles/07_singular_value_decomposition.pdf\n",
    "# https://www.cs.cmu.edu/~venkatg/teaching/CStheory-infoage/book-chapter-4.pdf\n",
    "# file:///Users/louisfialho/Downloads/[18440835%20-%20Analele%20Universitatii%20_Ovidius_%20Constanta%20-%20Seria%20Matematica]%20Block%20Power%20Method%20for%20SVD%20Decomposition%20(1).pdf"
   ]
  },
  {
   "cell_type": "markdown",
   "metadata": {},
   "source": [
    "Exercice 4. (PCA)"
   ]
  },
  {
   "cell_type": "markdown",
   "metadata": {},
   "source": [
    "11) Import with Pandas the dataset defra_consumption.csv"
   ]
  },
  {
   "cell_type": "code",
   "execution_count": 2,
   "metadata": {},
   "outputs": [
    {
     "data": {
      "text/html": [
       "<div>\n",
       "<style scoped>\n",
       "    .dataframe tbody tr th:only-of-type {\n",
       "        vertical-align: middle;\n",
       "    }\n",
       "\n",
       "    .dataframe tbody tr th {\n",
       "        vertical-align: top;\n",
       "    }\n",
       "\n",
       "    .dataframe thead th {\n",
       "        text-align: right;\n",
       "    }\n",
       "</style>\n",
       "<table border=\"1\" class=\"dataframe\">\n",
       "  <thead>\n",
       "    <tr style=\"text-align: right;\">\n",
       "      <th></th>\n",
       "      <th>Unnamed: 0</th>\n",
       "      <th>England</th>\n",
       "      <th>Wales</th>\n",
       "      <th>Scotland</th>\n",
       "      <th>N Ireland</th>\n",
       "    </tr>\n",
       "  </thead>\n",
       "  <tbody>\n",
       "    <tr>\n",
       "      <th>0</th>\n",
       "      <td>Cheese</td>\n",
       "      <td>105</td>\n",
       "      <td>103</td>\n",
       "      <td>103</td>\n",
       "      <td>66</td>\n",
       "    </tr>\n",
       "    <tr>\n",
       "      <th>1</th>\n",
       "      <td>Carcass meat</td>\n",
       "      <td>245</td>\n",
       "      <td>227</td>\n",
       "      <td>242</td>\n",
       "      <td>267</td>\n",
       "    </tr>\n",
       "    <tr>\n",
       "      <th>2</th>\n",
       "      <td>Other meat</td>\n",
       "      <td>685</td>\n",
       "      <td>803</td>\n",
       "      <td>750</td>\n",
       "      <td>586</td>\n",
       "    </tr>\n",
       "    <tr>\n",
       "      <th>3</th>\n",
       "      <td>Fish</td>\n",
       "      <td>147</td>\n",
       "      <td>160</td>\n",
       "      <td>122</td>\n",
       "      <td>93</td>\n",
       "    </tr>\n",
       "    <tr>\n",
       "      <th>4</th>\n",
       "      <td>Fats and oils</td>\n",
       "      <td>193</td>\n",
       "      <td>235</td>\n",
       "      <td>184</td>\n",
       "      <td>209</td>\n",
       "    </tr>\n",
       "    <tr>\n",
       "      <th>5</th>\n",
       "      <td>Sugars</td>\n",
       "      <td>156</td>\n",
       "      <td>175</td>\n",
       "      <td>147</td>\n",
       "      <td>139</td>\n",
       "    </tr>\n",
       "    <tr>\n",
       "      <th>6</th>\n",
       "      <td>Fresh potatoes</td>\n",
       "      <td>720</td>\n",
       "      <td>874</td>\n",
       "      <td>566</td>\n",
       "      <td>1033</td>\n",
       "    </tr>\n",
       "    <tr>\n",
       "      <th>7</th>\n",
       "      <td>Fresh Veg</td>\n",
       "      <td>253</td>\n",
       "      <td>265</td>\n",
       "      <td>171</td>\n",
       "      <td>143</td>\n",
       "    </tr>\n",
       "    <tr>\n",
       "      <th>8</th>\n",
       "      <td>Other Veg</td>\n",
       "      <td>488</td>\n",
       "      <td>570</td>\n",
       "      <td>418</td>\n",
       "      <td>355</td>\n",
       "    </tr>\n",
       "    <tr>\n",
       "      <th>9</th>\n",
       "      <td>Processed potatoes</td>\n",
       "      <td>198</td>\n",
       "      <td>203</td>\n",
       "      <td>220</td>\n",
       "      <td>187</td>\n",
       "    </tr>\n",
       "    <tr>\n",
       "      <th>10</th>\n",
       "      <td>Processed Veg</td>\n",
       "      <td>360</td>\n",
       "      <td>365</td>\n",
       "      <td>337</td>\n",
       "      <td>334</td>\n",
       "    </tr>\n",
       "    <tr>\n",
       "      <th>11</th>\n",
       "      <td>Fresh fruit</td>\n",
       "      <td>1102</td>\n",
       "      <td>1137</td>\n",
       "      <td>957</td>\n",
       "      <td>674</td>\n",
       "    </tr>\n",
       "    <tr>\n",
       "      <th>12</th>\n",
       "      <td>Cereals</td>\n",
       "      <td>1472</td>\n",
       "      <td>1582</td>\n",
       "      <td>1462</td>\n",
       "      <td>1494</td>\n",
       "    </tr>\n",
       "    <tr>\n",
       "      <th>13</th>\n",
       "      <td>Beverages</td>\n",
       "      <td>57</td>\n",
       "      <td>73</td>\n",
       "      <td>53</td>\n",
       "      <td>47</td>\n",
       "    </tr>\n",
       "    <tr>\n",
       "      <th>14</th>\n",
       "      <td>Soft drinks</td>\n",
       "      <td>1374</td>\n",
       "      <td>1256</td>\n",
       "      <td>1572</td>\n",
       "      <td>1506</td>\n",
       "    </tr>\n",
       "    <tr>\n",
       "      <th>15</th>\n",
       "      <td>Alcoholic drinks</td>\n",
       "      <td>375</td>\n",
       "      <td>475</td>\n",
       "      <td>458</td>\n",
       "      <td>135</td>\n",
       "    </tr>\n",
       "    <tr>\n",
       "      <th>16</th>\n",
       "      <td>Confectionery</td>\n",
       "      <td>54</td>\n",
       "      <td>64</td>\n",
       "      <td>62</td>\n",
       "      <td>41</td>\n",
       "    </tr>\n",
       "  </tbody>\n",
       "</table>\n",
       "</div>"
      ],
      "text/plain": [
       "            Unnamed: 0  England  Wales  Scotland  N Ireland\n",
       "0               Cheese      105    103       103         66\n",
       "1         Carcass meat      245    227       242        267\n",
       "2           Other meat      685    803       750        586\n",
       "3                 Fish      147    160       122         93\n",
       "4        Fats and oils      193    235       184        209\n",
       "5               Sugars      156    175       147        139\n",
       "6       Fresh potatoes      720    874       566       1033\n",
       "7            Fresh Veg      253    265       171        143\n",
       "8            Other Veg      488    570       418        355\n",
       "9   Processed potatoes      198    203       220        187\n",
       "10       Processed Veg      360    365       337        334\n",
       "11         Fresh fruit     1102   1137       957        674\n",
       "12             Cereals     1472   1582      1462       1494\n",
       "13           Beverages       57     73        53         47\n",
       "14         Soft drinks     1374   1256      1572       1506\n",
       "15    Alcoholic drinks      375    475       458        135\n",
       "16       Confectionery       54     64        62         41"
      ]
     },
     "execution_count": 2,
     "metadata": {},
     "output_type": "execute_result"
    }
   ],
   "source": [
    "df = pd.read_csv('http://josephsalmon.eu/enseignement/TELECOM/SD204/defra_consumption.csv', sep=';')\n",
    "df"
   ]
  },
  {
   "cell_type": "code",
   "execution_count": null,
   "metadata": {},
   "outputs": [],
   "source": [
    "df.shape"
   ]
  },
  {
   "cell_type": "code",
   "execution_count": null,
   "metadata": {},
   "outputs": [],
   "source": [
    "df.dtypes"
   ]
  },
  {
   "cell_type": "code",
   "execution_count": null,
   "metadata": {},
   "outputs": [],
   "source": [
    "df.columns"
   ]
  },
  {
   "cell_type": "code",
   "execution_count": 3,
   "metadata": {},
   "outputs": [
    {
     "data": {
      "text/html": [
       "<div>\n",
       "<style scoped>\n",
       "    .dataframe tbody tr th:only-of-type {\n",
       "        vertical-align: middle;\n",
       "    }\n",
       "\n",
       "    .dataframe tbody tr th {\n",
       "        vertical-align: top;\n",
       "    }\n",
       "\n",
       "    .dataframe thead th {\n",
       "        text-align: right;\n",
       "    }\n",
       "</style>\n",
       "<table border=\"1\" class=\"dataframe\">\n",
       "  <thead>\n",
       "    <tr style=\"text-align: right;\">\n",
       "      <th></th>\n",
       "      <th>Category</th>\n",
       "      <th>England</th>\n",
       "      <th>Wales</th>\n",
       "      <th>Scotland</th>\n",
       "      <th>N Ireland</th>\n",
       "    </tr>\n",
       "  </thead>\n",
       "  <tbody>\n",
       "    <tr>\n",
       "      <th>0</th>\n",
       "      <td>Cheese</td>\n",
       "      <td>105</td>\n",
       "      <td>103</td>\n",
       "      <td>103</td>\n",
       "      <td>66</td>\n",
       "    </tr>\n",
       "    <tr>\n",
       "      <th>1</th>\n",
       "      <td>Carcass meat</td>\n",
       "      <td>245</td>\n",
       "      <td>227</td>\n",
       "      <td>242</td>\n",
       "      <td>267</td>\n",
       "    </tr>\n",
       "    <tr>\n",
       "      <th>2</th>\n",
       "      <td>Other meat</td>\n",
       "      <td>685</td>\n",
       "      <td>803</td>\n",
       "      <td>750</td>\n",
       "      <td>586</td>\n",
       "    </tr>\n",
       "    <tr>\n",
       "      <th>3</th>\n",
       "      <td>Fish</td>\n",
       "      <td>147</td>\n",
       "      <td>160</td>\n",
       "      <td>122</td>\n",
       "      <td>93</td>\n",
       "    </tr>\n",
       "    <tr>\n",
       "      <th>4</th>\n",
       "      <td>Fats and oils</td>\n",
       "      <td>193</td>\n",
       "      <td>235</td>\n",
       "      <td>184</td>\n",
       "      <td>209</td>\n",
       "    </tr>\n",
       "    <tr>\n",
       "      <th>5</th>\n",
       "      <td>Sugars</td>\n",
       "      <td>156</td>\n",
       "      <td>175</td>\n",
       "      <td>147</td>\n",
       "      <td>139</td>\n",
       "    </tr>\n",
       "    <tr>\n",
       "      <th>6</th>\n",
       "      <td>Fresh potatoes</td>\n",
       "      <td>720</td>\n",
       "      <td>874</td>\n",
       "      <td>566</td>\n",
       "      <td>1033</td>\n",
       "    </tr>\n",
       "    <tr>\n",
       "      <th>7</th>\n",
       "      <td>Fresh Veg</td>\n",
       "      <td>253</td>\n",
       "      <td>265</td>\n",
       "      <td>171</td>\n",
       "      <td>143</td>\n",
       "    </tr>\n",
       "    <tr>\n",
       "      <th>8</th>\n",
       "      <td>Other Veg</td>\n",
       "      <td>488</td>\n",
       "      <td>570</td>\n",
       "      <td>418</td>\n",
       "      <td>355</td>\n",
       "    </tr>\n",
       "    <tr>\n",
       "      <th>9</th>\n",
       "      <td>Processed potatoes</td>\n",
       "      <td>198</td>\n",
       "      <td>203</td>\n",
       "      <td>220</td>\n",
       "      <td>187</td>\n",
       "    </tr>\n",
       "    <tr>\n",
       "      <th>10</th>\n",
       "      <td>Processed Veg</td>\n",
       "      <td>360</td>\n",
       "      <td>365</td>\n",
       "      <td>337</td>\n",
       "      <td>334</td>\n",
       "    </tr>\n",
       "    <tr>\n",
       "      <th>11</th>\n",
       "      <td>Fresh fruit</td>\n",
       "      <td>1102</td>\n",
       "      <td>1137</td>\n",
       "      <td>957</td>\n",
       "      <td>674</td>\n",
       "    </tr>\n",
       "    <tr>\n",
       "      <th>12</th>\n",
       "      <td>Cereals</td>\n",
       "      <td>1472</td>\n",
       "      <td>1582</td>\n",
       "      <td>1462</td>\n",
       "      <td>1494</td>\n",
       "    </tr>\n",
       "    <tr>\n",
       "      <th>13</th>\n",
       "      <td>Beverages</td>\n",
       "      <td>57</td>\n",
       "      <td>73</td>\n",
       "      <td>53</td>\n",
       "      <td>47</td>\n",
       "    </tr>\n",
       "    <tr>\n",
       "      <th>14</th>\n",
       "      <td>Soft drinks</td>\n",
       "      <td>1374</td>\n",
       "      <td>1256</td>\n",
       "      <td>1572</td>\n",
       "      <td>1506</td>\n",
       "    </tr>\n",
       "    <tr>\n",
       "      <th>15</th>\n",
       "      <td>Alcoholic drinks</td>\n",
       "      <td>375</td>\n",
       "      <td>475</td>\n",
       "      <td>458</td>\n",
       "      <td>135</td>\n",
       "    </tr>\n",
       "    <tr>\n",
       "      <th>16</th>\n",
       "      <td>Confectionery</td>\n",
       "      <td>54</td>\n",
       "      <td>64</td>\n",
       "      <td>62</td>\n",
       "      <td>41</td>\n",
       "    </tr>\n",
       "  </tbody>\n",
       "</table>\n",
       "</div>"
      ],
      "text/plain": [
       "              Category  England  Wales  Scotland  N Ireland\n",
       "0               Cheese      105    103       103         66\n",
       "1         Carcass meat      245    227       242        267\n",
       "2           Other meat      685    803       750        586\n",
       "3                 Fish      147    160       122         93\n",
       "4        Fats and oils      193    235       184        209\n",
       "5               Sugars      156    175       147        139\n",
       "6       Fresh potatoes      720    874       566       1033\n",
       "7            Fresh Veg      253    265       171        143\n",
       "8            Other Veg      488    570       418        355\n",
       "9   Processed potatoes      198    203       220        187\n",
       "10       Processed Veg      360    365       337        334\n",
       "11         Fresh fruit     1102   1137       957        674\n",
       "12             Cereals     1472   1582      1462       1494\n",
       "13           Beverages       57     73        53         47\n",
       "14         Soft drinks     1374   1256      1572       1506\n",
       "15    Alcoholic drinks      375    475       458        135\n",
       "16       Confectionery       54     64        62         41"
      ]
     },
     "execution_count": 3,
     "metadata": {},
     "output_type": "execute_result"
    }
   ],
   "source": [
    "df.rename({'Unnamed: 0': 'Category'}, axis=1, inplace=True)\n",
    "df"
   ]
  },
  {
   "cell_type": "markdown",
   "metadata": {},
   "source": [
    "12) Center and standardize the dataset using the preprocessing module from sklearn, where\n",
    "we write X P Rnˆp for the associated matrix (n “ 17 is the number of observations, and p “ 4 is the number of variables)"
   ]
  },
  {
   "cell_type": "code",
   "execution_count": 4,
   "metadata": {},
   "outputs": [
    {
     "data": {
      "text/plain": [
       "['England', 'Wales', 'Scotland', 'N Ireland']"
      ]
     },
     "execution_count": 4,
     "metadata": {},
     "output_type": "execute_result"
    }
   ],
   "source": [
    "num_cols = [c for c in df.columns\n",
    "                     if df[c].dtype.kind in [\"i\", \"f\"]]\n",
    "num_cols"
   ]
  },
  {
   "cell_type": "code",
   "execution_count": 5,
   "metadata": {},
   "outputs": [
    {
     "data": {
      "text/html": [
       "<div>\n",
       "<style scoped>\n",
       "    .dataframe tbody tr th:only-of-type {\n",
       "        vertical-align: middle;\n",
       "    }\n",
       "\n",
       "    .dataframe tbody tr th {\n",
       "        vertical-align: top;\n",
       "    }\n",
       "\n",
       "    .dataframe thead th {\n",
       "        text-align: right;\n",
       "    }\n",
       "</style>\n",
       "<table border=\"1\" class=\"dataframe\">\n",
       "  <thead>\n",
       "    <tr style=\"text-align: right;\">\n",
       "      <th></th>\n",
       "      <th>Category</th>\n",
       "      <th>England</th>\n",
       "      <th>Wales</th>\n",
       "      <th>Scotland</th>\n",
       "      <th>N Ireland</th>\n",
       "    </tr>\n",
       "  </thead>\n",
       "  <tbody>\n",
       "    <tr>\n",
       "      <th>0</th>\n",
       "      <td>Cheese</td>\n",
       "      <td>-0.830281</td>\n",
       "      <td>-0.890961</td>\n",
       "      <td>-0.784142</td>\n",
       "      <td>-0.781715</td>\n",
       "    </tr>\n",
       "    <tr>\n",
       "      <th>1</th>\n",
       "      <td>Carcass meat</td>\n",
       "      <td>-0.511509</td>\n",
       "      <td>-0.615412</td>\n",
       "      <td>-0.479033</td>\n",
       "      <td>-0.349984</td>\n",
       "    </tr>\n",
       "    <tr>\n",
       "      <th>2</th>\n",
       "      <td>Other meat</td>\n",
       "      <td>0.490347</td>\n",
       "      <td>0.664561</td>\n",
       "      <td>0.636042</td>\n",
       "      <td>0.335201</td>\n",
       "    </tr>\n",
       "    <tr>\n",
       "      <th>3</th>\n",
       "      <td>Fish</td>\n",
       "      <td>-0.734650</td>\n",
       "      <td>-0.764297</td>\n",
       "      <td>-0.742436</td>\n",
       "      <td>-0.723721</td>\n",
       "    </tr>\n",
       "    <tr>\n",
       "      <th>4</th>\n",
       "      <td>Fats and oils</td>\n",
       "      <td>-0.629910</td>\n",
       "      <td>-0.597634</td>\n",
       "      <td>-0.606344</td>\n",
       "      <td>-0.474563</td>\n",
       "    </tr>\n",
       "    <tr>\n",
       "      <th>5</th>\n",
       "      <td>Sugars</td>\n",
       "      <td>-0.714157</td>\n",
       "      <td>-0.730965</td>\n",
       "      <td>-0.687560</td>\n",
       "      <td>-0.624917</td>\n",
       "    </tr>\n",
       "    <tr>\n",
       "      <th>6</th>\n",
       "      <td>Fresh potatoes</td>\n",
       "      <td>0.570040</td>\n",
       "      <td>0.822335</td>\n",
       "      <td>0.232157</td>\n",
       "      <td>1.295320</td>\n",
       "    </tr>\n",
       "    <tr>\n",
       "      <th>7</th>\n",
       "      <td>Fresh Veg</td>\n",
       "      <td>-0.493293</td>\n",
       "      <td>-0.530969</td>\n",
       "      <td>-0.634880</td>\n",
       "      <td>-0.616326</td>\n",
       "    </tr>\n",
       "    <tr>\n",
       "      <th>8</th>\n",
       "      <td>Other Veg</td>\n",
       "      <td>0.041789</td>\n",
       "      <td>0.146794</td>\n",
       "      <td>-0.092708</td>\n",
       "      <td>-0.160967</td>\n",
       "    </tr>\n",
       "    <tr>\n",
       "      <th>9</th>\n",
       "      <td>Processed potatoes</td>\n",
       "      <td>-0.618525</td>\n",
       "      <td>-0.668744</td>\n",
       "      <td>-0.527323</td>\n",
       "      <td>-0.521817</td>\n",
       "    </tr>\n",
       "    <tr>\n",
       "      <th>10</th>\n",
       "      <td>Processed Veg</td>\n",
       "      <td>-0.249660</td>\n",
       "      <td>-0.308752</td>\n",
       "      <td>-0.270505</td>\n",
       "      <td>-0.206074</td>\n",
       "    </tr>\n",
       "    <tr>\n",
       "      <th>11</th>\n",
       "      <td>Fresh fruit</td>\n",
       "      <td>1.439833</td>\n",
       "      <td>1.406767</td>\n",
       "      <td>1.090413</td>\n",
       "      <td>0.524218</td>\n",
       "    </tr>\n",
       "    <tr>\n",
       "      <th>12</th>\n",
       "      <td>Cereals</td>\n",
       "      <td>2.282303</td>\n",
       "      <td>2.395635</td>\n",
       "      <td>2.198902</td>\n",
       "      <td>2.285509</td>\n",
       "    </tr>\n",
       "    <tr>\n",
       "      <th>13</th>\n",
       "      <td>Beverages</td>\n",
       "      <td>-0.939575</td>\n",
       "      <td>-0.957627</td>\n",
       "      <td>-0.893893</td>\n",
       "      <td>-0.822526</td>\n",
       "    </tr>\n",
       "    <tr>\n",
       "      <th>14</th>\n",
       "      <td>Soft drinks</td>\n",
       "      <td>2.059162</td>\n",
       "      <td>1.671206</td>\n",
       "      <td>2.440355</td>\n",
       "      <td>2.311284</td>\n",
       "    </tr>\n",
       "    <tr>\n",
       "      <th>15</th>\n",
       "      <td>Alcoholic drinks</td>\n",
       "      <td>-0.215506</td>\n",
       "      <td>-0.064312</td>\n",
       "      <td>-0.004907</td>\n",
       "      <td>-0.633509</td>\n",
       "    </tr>\n",
       "    <tr>\n",
       "      <th>16</th>\n",
       "      <td>Confectionery</td>\n",
       "      <td>-0.946406</td>\n",
       "      <td>-0.977626</td>\n",
       "      <td>-0.874138</td>\n",
       "      <td>-0.835413</td>\n",
       "    </tr>\n",
       "  </tbody>\n",
       "</table>\n",
       "</div>"
      ],
      "text/plain": [
       "              Category   England     Wales  Scotland  N Ireland\n",
       "0               Cheese -0.830281 -0.890961 -0.784142  -0.781715\n",
       "1         Carcass meat -0.511509 -0.615412 -0.479033  -0.349984\n",
       "2           Other meat  0.490347  0.664561  0.636042   0.335201\n",
       "3                 Fish -0.734650 -0.764297 -0.742436  -0.723721\n",
       "4        Fats and oils -0.629910 -0.597634 -0.606344  -0.474563\n",
       "5               Sugars -0.714157 -0.730965 -0.687560  -0.624917\n",
       "6       Fresh potatoes  0.570040  0.822335  0.232157   1.295320\n",
       "7            Fresh Veg -0.493293 -0.530969 -0.634880  -0.616326\n",
       "8            Other Veg  0.041789  0.146794 -0.092708  -0.160967\n",
       "9   Processed potatoes -0.618525 -0.668744 -0.527323  -0.521817\n",
       "10       Processed Veg -0.249660 -0.308752 -0.270505  -0.206074\n",
       "11         Fresh fruit  1.439833  1.406767  1.090413   0.524218\n",
       "12             Cereals  2.282303  2.395635  2.198902   2.285509\n",
       "13           Beverages -0.939575 -0.957627 -0.893893  -0.822526\n",
       "14         Soft drinks  2.059162  1.671206  2.440355   2.311284\n",
       "15    Alcoholic drinks -0.215506 -0.064312 -0.004907  -0.633509\n",
       "16       Confectionery -0.946406 -0.977626 -0.874138  -0.835413"
      ]
     },
     "execution_count": 5,
     "metadata": {},
     "output_type": "execute_result"
    }
   ],
   "source": [
    "df[num_cols] = preprocessing.scale(df[num_cols]) \n",
    "df"
   ]
  },
  {
   "cell_type": "code",
   "execution_count": 6,
   "metadata": {},
   "outputs": [
    {
     "name": "stdout",
     "output_type": "stream",
     "text": [
      "[[-0.83028135 -0.89096138 -0.78414166 -0.78171514]\n",
      " [-0.51150903 -0.6154117  -0.47903269 -0.34998399]\n",
      " [ 0.49034683  0.66456098  0.63604179  0.33520127]\n",
      " [-0.73464965 -0.76429741 -0.74243611 -0.7237214 ]\n",
      " [-0.62991018 -0.5976343  -0.60634435 -0.47456313]\n",
      " [-0.71415715 -0.73096479 -0.6875604  -0.62491726]\n",
      " [ 0.57003991  0.82233539  0.23215655  1.2953198 ]\n",
      " [-0.49329347 -0.53096906 -0.63487972 -0.61632559]\n",
      " [ 0.04178864  0.14679425 -0.09270767 -0.16096736]\n",
      " [-0.61852545 -0.6687439  -0.52732332 -0.52181728]\n",
      " [-0.24966034 -0.30875158 -0.27050498 -0.2060736 ]\n",
      " [ 1.43983296  1.40676736  1.09041269  0.52421789]\n",
      " [ 2.28230266  2.39563515  2.19890209  2.28550915]\n",
      " [-0.93957472 -0.95762662 -0.89389308 -0.82252554]\n",
      " [ 2.05916204  1.67120616  2.44035523  2.31128414]\n",
      " [-0.21550616 -0.06431235 -0.00490653 -0.63350892]\n",
      " [-0.94640555 -0.97762619 -0.87413783 -0.83541304]] (17, 4)\n"
     ]
    }
   ],
   "source": [
    "X = df.iloc[:,1:].to_numpy()\n",
    "print(X, X.shape)"
   ]
  },
  {
   "cell_type": "markdown",
   "metadata": {},
   "source": [
    "13) Display a scatter plot of the n points projected on the space generated by the first two\n",
    "principal axes (corresponding to largest eigenvalues)."
   ]
  },
  {
   "cell_type": "markdown",
   "metadata": {},
   "source": [
    "Visualizing 2 or 3 dimensional data is not that challenging. \n",
    "However, our dataset is 4 dimensional. \n",
    "We will use PCA to reduce that 4 dimensional data into 2 or 3 dimensions so that we can plot and hopefully understand the data better."
   ]
  },
  {
   "cell_type": "markdown",
   "metadata": {},
   "source": [
    "In this section, the code projects the original data which is 4 dimensional into 2 dimensions. I should note that after dimensionality reduction, there usually isn’t a particular meaning assigned to each principal component. The new components are just the two main dimensions of variation."
   ]
  },
  {
   "cell_type": "code",
   "execution_count": 15,
   "metadata": {},
   "outputs": [
    {
     "data": {
      "text/html": [
       "<div>\n",
       "<style scoped>\n",
       "    .dataframe tbody tr th:only-of-type {\n",
       "        vertical-align: middle;\n",
       "    }\n",
       "\n",
       "    .dataframe tbody tr th {\n",
       "        vertical-align: top;\n",
       "    }\n",
       "\n",
       "    .dataframe thead th {\n",
       "        text-align: right;\n",
       "    }\n",
       "</style>\n",
       "<table border=\"1\" class=\"dataframe\">\n",
       "  <thead>\n",
       "    <tr style=\"text-align: right;\">\n",
       "      <th></th>\n",
       "      <th>principal component 1</th>\n",
       "      <th>principal component 2</th>\n",
       "    </tr>\n",
       "  </thead>\n",
       "  <tbody>\n",
       "    <tr>\n",
       "      <th>0</th>\n",
       "      <td>-1.643874</td>\n",
       "      <td>-0.038130</td>\n",
       "    </tr>\n",
       "    <tr>\n",
       "      <th>1</th>\n",
       "      <td>-0.979237</td>\n",
       "      <td>-0.159582</td>\n",
       "    </tr>\n",
       "    <tr>\n",
       "      <th>2</th>\n",
       "      <td>1.064553</td>\n",
       "      <td>0.219175</td>\n",
       "    </tr>\n",
       "    <tr>\n",
       "      <th>3</th>\n",
       "      <td>-1.482615</td>\n",
       "      <td>-0.008756</td>\n",
       "    </tr>\n",
       "    <tr>\n",
       "      <th>4</th>\n",
       "      <td>-1.155279</td>\n",
       "      <td>-0.107406</td>\n",
       "    </tr>\n",
       "    <tr>\n",
       "      <th>5</th>\n",
       "      <td>-1.379405</td>\n",
       "      <td>-0.064789</td>\n",
       "    </tr>\n",
       "    <tr>\n",
       "      <th>6</th>\n",
       "      <td>1.454407</td>\n",
       "      <td>-0.629215</td>\n",
       "    </tr>\n",
       "    <tr>\n",
       "      <th>7</th>\n",
       "      <td>-1.136946</td>\n",
       "      <td>0.070026</td>\n",
       "    </tr>\n",
       "    <tr>\n",
       "      <th>8</th>\n",
       "      <td>-0.031022</td>\n",
       "      <td>0.180591</td>\n",
       "    </tr>\n",
       "    <tr>\n",
       "      <th>9</th>\n",
       "      <td>-1.168855</td>\n",
       "      <td>-0.069682</td>\n",
       "    </tr>\n",
       "    <tr>\n",
       "      <th>10</th>\n",
       "      <td>-0.517894</td>\n",
       "      <td>-0.058554</td>\n",
       "    </tr>\n",
       "    <tr>\n",
       "      <th>11</th>\n",
       "      <td>2.237011</td>\n",
       "      <td>0.678348</td>\n",
       "    </tr>\n",
       "    <tr>\n",
       "      <th>12</th>\n",
       "      <td>4.581013</td>\n",
       "      <td>-0.022245</td>\n",
       "    </tr>\n",
       "    <tr>\n",
       "      <th>13</th>\n",
       "      <td>-1.807588</td>\n",
       "      <td>-0.081097</td>\n",
       "    </tr>\n",
       "    <tr>\n",
       "      <th>14</th>\n",
       "      <td>4.238811</td>\n",
       "      <td>-0.300729</td>\n",
       "    </tr>\n",
       "    <tr>\n",
       "      <th>15</th>\n",
       "      <td>-0.455566</td>\n",
       "      <td>0.466239</td>\n",
       "    </tr>\n",
       "    <tr>\n",
       "      <th>16</th>\n",
       "      <td>-1.817515</td>\n",
       "      <td>-0.074194</td>\n",
       "    </tr>\n",
       "  </tbody>\n",
       "</table>\n",
       "</div>"
      ],
      "text/plain": [
       "    principal component 1  principal component 2\n",
       "0               -1.643874              -0.038130\n",
       "1               -0.979237              -0.159582\n",
       "2                1.064553               0.219175\n",
       "3               -1.482615              -0.008756\n",
       "4               -1.155279              -0.107406\n",
       "5               -1.379405              -0.064789\n",
       "6                1.454407              -0.629215\n",
       "7               -1.136946               0.070026\n",
       "8               -0.031022               0.180591\n",
       "9               -1.168855              -0.069682\n",
       "10              -0.517894              -0.058554\n",
       "11               2.237011               0.678348\n",
       "12               4.581013              -0.022245\n",
       "13              -1.807588              -0.081097\n",
       "14               4.238811              -0.300729\n",
       "15              -0.455566               0.466239\n",
       "16              -1.817515              -0.074194"
      ]
     },
     "execution_count": 15,
     "metadata": {},
     "output_type": "execute_result"
    }
   ],
   "source": [
    "from sklearn.decomposition import PCA\n",
    "pca = PCA(n_components=2)\n",
    "principalComponents = pca.fit_transform(X)\n",
    "principalDf = pd.DataFrame(data = principalComponents\n",
    "             , columns = ['principal component 1', 'principal component 2'])\n",
    "principalDf"
   ]
  },
  {
   "cell_type": "code",
   "execution_count": 16,
   "metadata": {},
   "outputs": [],
   "source": [
    "finalDf = pd.concat([principalDf, df[['Category']]], axis = 1)"
   ]
  },
  {
   "cell_type": "code",
   "execution_count": 17,
   "metadata": {},
   "outputs": [
    {
     "data": {
      "text/html": [
       "<div>\n",
       "<style scoped>\n",
       "    .dataframe tbody tr th:only-of-type {\n",
       "        vertical-align: middle;\n",
       "    }\n",
       "\n",
       "    .dataframe tbody tr th {\n",
       "        vertical-align: top;\n",
       "    }\n",
       "\n",
       "    .dataframe thead th {\n",
       "        text-align: right;\n",
       "    }\n",
       "</style>\n",
       "<table border=\"1\" class=\"dataframe\">\n",
       "  <thead>\n",
       "    <tr style=\"text-align: right;\">\n",
       "      <th></th>\n",
       "      <th>principal component 1</th>\n",
       "      <th>principal component 2</th>\n",
       "      <th>Category</th>\n",
       "    </tr>\n",
       "  </thead>\n",
       "  <tbody>\n",
       "    <tr>\n",
       "      <th>0</th>\n",
       "      <td>-1.643874</td>\n",
       "      <td>-0.038130</td>\n",
       "      <td>Cheese</td>\n",
       "    </tr>\n",
       "    <tr>\n",
       "      <th>1</th>\n",
       "      <td>-0.979237</td>\n",
       "      <td>-0.159582</td>\n",
       "      <td>Carcass meat</td>\n",
       "    </tr>\n",
       "    <tr>\n",
       "      <th>2</th>\n",
       "      <td>1.064553</td>\n",
       "      <td>0.219175</td>\n",
       "      <td>Other meat</td>\n",
       "    </tr>\n",
       "    <tr>\n",
       "      <th>3</th>\n",
       "      <td>-1.482615</td>\n",
       "      <td>-0.008756</td>\n",
       "      <td>Fish</td>\n",
       "    </tr>\n",
       "    <tr>\n",
       "      <th>4</th>\n",
       "      <td>-1.155279</td>\n",
       "      <td>-0.107406</td>\n",
       "      <td>Fats and oils</td>\n",
       "    </tr>\n",
       "    <tr>\n",
       "      <th>5</th>\n",
       "      <td>-1.379405</td>\n",
       "      <td>-0.064789</td>\n",
       "      <td>Sugars</td>\n",
       "    </tr>\n",
       "    <tr>\n",
       "      <th>6</th>\n",
       "      <td>1.454407</td>\n",
       "      <td>-0.629215</td>\n",
       "      <td>Fresh potatoes</td>\n",
       "    </tr>\n",
       "    <tr>\n",
       "      <th>7</th>\n",
       "      <td>-1.136946</td>\n",
       "      <td>0.070026</td>\n",
       "      <td>Fresh Veg</td>\n",
       "    </tr>\n",
       "    <tr>\n",
       "      <th>8</th>\n",
       "      <td>-0.031022</td>\n",
       "      <td>0.180591</td>\n",
       "      <td>Other Veg</td>\n",
       "    </tr>\n",
       "    <tr>\n",
       "      <th>9</th>\n",
       "      <td>-1.168855</td>\n",
       "      <td>-0.069682</td>\n",
       "      <td>Processed potatoes</td>\n",
       "    </tr>\n",
       "    <tr>\n",
       "      <th>10</th>\n",
       "      <td>-0.517894</td>\n",
       "      <td>-0.058554</td>\n",
       "      <td>Processed Veg</td>\n",
       "    </tr>\n",
       "    <tr>\n",
       "      <th>11</th>\n",
       "      <td>2.237011</td>\n",
       "      <td>0.678348</td>\n",
       "      <td>Fresh fruit</td>\n",
       "    </tr>\n",
       "    <tr>\n",
       "      <th>12</th>\n",
       "      <td>4.581013</td>\n",
       "      <td>-0.022245</td>\n",
       "      <td>Cereals</td>\n",
       "    </tr>\n",
       "    <tr>\n",
       "      <th>13</th>\n",
       "      <td>-1.807588</td>\n",
       "      <td>-0.081097</td>\n",
       "      <td>Beverages</td>\n",
       "    </tr>\n",
       "    <tr>\n",
       "      <th>14</th>\n",
       "      <td>4.238811</td>\n",
       "      <td>-0.300729</td>\n",
       "      <td>Soft drinks</td>\n",
       "    </tr>\n",
       "    <tr>\n",
       "      <th>15</th>\n",
       "      <td>-0.455566</td>\n",
       "      <td>0.466239</td>\n",
       "      <td>Alcoholic drinks</td>\n",
       "    </tr>\n",
       "    <tr>\n",
       "      <th>16</th>\n",
       "      <td>-1.817515</td>\n",
       "      <td>-0.074194</td>\n",
       "      <td>Confectionery</td>\n",
       "    </tr>\n",
       "  </tbody>\n",
       "</table>\n",
       "</div>"
      ],
      "text/plain": [
       "    principal component 1  principal component 2            Category\n",
       "0               -1.643874              -0.038130              Cheese\n",
       "1               -0.979237              -0.159582        Carcass meat\n",
       "2                1.064553               0.219175          Other meat\n",
       "3               -1.482615              -0.008756                Fish\n",
       "4               -1.155279              -0.107406       Fats and oils\n",
       "5               -1.379405              -0.064789              Sugars\n",
       "6                1.454407              -0.629215      Fresh potatoes\n",
       "7               -1.136946               0.070026           Fresh Veg\n",
       "8               -0.031022               0.180591           Other Veg\n",
       "9               -1.168855              -0.069682  Processed potatoes\n",
       "10              -0.517894              -0.058554       Processed Veg\n",
       "11               2.237011               0.678348         Fresh fruit\n",
       "12               4.581013              -0.022245             Cereals\n",
       "13              -1.807588              -0.081097           Beverages\n",
       "14               4.238811              -0.300729         Soft drinks\n",
       "15              -0.455566               0.466239    Alcoholic drinks\n",
       "16              -1.817515              -0.074194       Confectionery"
      ]
     },
     "execution_count": 17,
     "metadata": {},
     "output_type": "execute_result"
    }
   ],
   "source": [
    "finalDf"
   ]
  },
  {
   "cell_type": "code",
   "execution_count": 18,
   "metadata": {},
   "outputs": [
    {
     "data": {
      "image/png": "[encoded data removed]",
      "text/plain": [
       "<Figure size 576x576 with 1 Axes>"
      ]
     },
     "metadata": {
      "needs_background": "light"
     },
     "output_type": "display_data"
    }
   ],
   "source": [
    "fig = plt.figure(figsize = (8,8))\n",
    "ax = fig.add_subplot(1,1,1) \n",
    "ax.set_xlabel('Principal Component 1', fontsize = 15)\n",
    "ax.set_ylabel('Principal Component 2', fontsize = 15)\n",
    "ax.set_title('2 component PCA', fontsize = 20)\n",
    "targets = ['Cheese', 'Carcass meat', 'Other meat', 'Fish', 'Fats and oils',\n",
    "       'Sugars', 'Fresh potatoes', 'Fresh Veg', 'Other Veg',\n",
    "       'Processed potatoes', 'Processed Veg', 'Fresh fruit', 'Cereals',\n",
    "       'Beverages', 'Soft drinks', 'Alcoholic drinks', 'Confectionery']\n",
    "colors = ['b', 'g', 'r', 'c', 'm', 'y', 'k', 'w', 'b', 'g', 'r', 'c', 'm', 'y', 'k', 'w']\n",
    "for target, color in zip(targets,colors):\n",
    "    indicesToKeep = finalDf['Category'] == target\n",
    "    ax.scatter(finalDf.loc[indicesToKeep, 'principal component 1']\n",
    "               , finalDf.loc[indicesToKeep, 'principal component 2']\n",
    "               , c = color\n",
    "               , s = 50)\n",
    "ax.legend(targets)\n",
    "ax.grid()"
   ]
  },
  {
   "cell_type": "markdown",
   "metadata": {},
   "source": [
    "Explained Variance\n",
    "The explained variance tells you how much information (variance) can be attributed to each of the principal components. This is important as while you can convert 4 dimensional space to 2 dimensional space, you lose some of the variance (information) when you do this"
   ]
  },
  {
   "cell_type": "code",
   "execution_count": 19,
   "metadata": {},
   "outputs": [
    {
     "data": {
      "text/plain": [
       "array([0.9707222 , 0.01930926])"
      ]
     },
     "execution_count": 19,
     "metadata": {},
     "output_type": "execute_result"
    }
   ],
   "source": [
    "pca.explained_variance_ratio_"
   ]
  },
  {
   "cell_type": "markdown",
   "metadata": {},
   "source": [
    "The first component contains much more information that the second one\n",
    "Together, they contain 99% of the information\n",
    "Did we run the PCA on the right axis?"
   ]
  },
  {
   "cell_type": "code",
   "execution_count": 20,
   "metadata": {},
   "outputs": [
    {
     "name": "stdout",
     "output_type": "stream",
     "text": [
      "[[ 0.50526231  0.50123046  0.50094821  0.49247225]\n",
      " [ 0.27858192  0.34368879  0.22784545 -0.86738491]]\n"
     ]
    }
   ],
   "source": [
    "print(pca.components_)"
   ]
  },
  {
   "cell_type": "markdown",
   "metadata": {},
   "source": [
    "14) Repeat the previous question for the space generated by three axes."
   ]
  },
  {
   "cell_type": "code",
   "execution_count": null,
   "metadata": {},
   "outputs": [],
   "source": [
    "pca = PCA(n_components=3)\n",
    "principalComponents = pca.fit_transform(X)\n",
    "principalDf = pd.DataFrame(data = principalComponents\n",
    "             , columns = ['principal component 1', 'principal component 2', 'principal component 3'])\n",
    "principalDf"
   ]
  },
  {
   "cell_type": "code",
   "execution_count": null,
   "metadata": {},
   "outputs": [],
   "source": [
    "pca.explained_variance_ratio_"
   ]
  },
  {
   "cell_type": "markdown",
   "metadata": {},
   "source": [
    "The 3rd dimension is useless, but let's plot it"
   ]
  },
  {
   "cell_type": "code",
   "execution_count": null,
   "metadata": {},
   "outputs": [],
   "source": [
    "finalDf = pd.concat([principalDf, df[['Category']]], axis = 1)"
   ]
  },
  {
   "cell_type": "code",
   "execution_count": null,
   "metadata": {},
   "outputs": [],
   "source": [
    "finalDf"
   ]
  },
  {
   "cell_type": "markdown",
   "metadata": {},
   "source": [
    "15) Compare the previous 2D and 3D graphs with the one obtained as follows :"
   ]
  },
  {
   "cell_type": "markdown",
   "metadata": {},
   "source": [
    "(a) Compute XJX, and diagonalize it. Project the n points encoded by X over the span\n",
    "of the eigen vectors associated to the two (respectively three) largest eigen values."
   ]
  },
  {
   "cell_type": "code",
   "execution_count": 7,
   "metadata": {},
   "outputs": [
    {
     "data": {
      "text/plain": [
       "array([[17.        , 16.84112428, 16.74359627, 16.10953096],\n",
       "       [16.84112428, 17.        , 16.39006584, 15.93003321],\n",
       "       [16.74359627, 16.39006584, 17.        , 15.9926114 ],\n",
       "       [16.10953096, 15.93003321, 15.9926114 , 17.        ]])"
      ]
     },
     "execution_count": 7,
     "metadata": {},
     "output_type": "execute_result"
    }
   ],
   "source": [
    "M = X.T @ X\n",
    "M"
   ]
  },
  {
   "cell_type": "code",
   "execution_count": 8,
   "metadata": {},
   "outputs": [
    {
     "name": "stdout",
     "output_type": "stream",
     "text": [
      "[66.00910989  0.06668829  1.3130295   0.61117233]\n",
      "[[ 0.50526231  0.814348   -0.27858192 -0.06276508]\n",
      " [ 0.50123046 -0.4774699  -0.34368879 -0.63456169]\n",
      " [ 0.50094821 -0.32963209 -0.22784545  0.76712452]\n",
      " [ 0.49247225 -0.01423082  0.86738491 -0.07008552]]\n"
     ]
    }
   ],
   "source": [
    "w, v = LA.eig(M)\n",
    "print(w)\n",
    "print(v)"
   ]
  },
  {
   "cell_type": "markdown",
   "metadata": {},
   "source": [
    "We call v1, v2, v3 the eigenvectors associated to the 3 largest eigenvalues, respectively"
   ]
  },
  {
   "cell_type": "code",
   "execution_count": 12,
   "metadata": {},
   "outputs": [
    {
     "name": "stdout",
     "output_type": "stream",
     "text": [
      "[0.50526231 0.50123046 0.50094821 0.49247225] [-0.27858192 -0.34368879 -0.22784545  0.86738491] [-0.06276508 -0.63456169  0.76712452 -0.07008552]\n"
     ]
    }
   ],
   "source": [
    "v1 = v[:,0]\n",
    "v2 = v[:,2]\n",
    "v3 = v[:,3]\n",
    "print(v1, v2, v3)"
   ]
  },
  {
   "cell_type": "markdown",
   "metadata": {},
   "source": [
    "We project each of the 17 4 dimensional vectors onto the subspace generated by v1 and v2"
   ]
  },
  {
   "cell_type": "markdown",
   "metadata": {},
   "source": [
    "Exercice 5. (Analysis of the auto-mpg dataset)\n",
    "Here, we consider the auto-mpg.data. We aim at predicting cars consumption based on\n",
    "several characteristics : cylinders, displacement, horsepower, weight, acceleration, year, country\n",
    "and cars name. The output coding cars consumption (more precisely the “mpg”, i.e.,the distance\n",
    "ridden in miles for a gallon of oil) is written y ;"
   ]
  },
  {
   "cell_type": "code",
   "execution_count": null,
   "metadata": {},
   "outputs": [],
   "source": [
    "# réagencer le df pr mettre les continous var, puis discrete, puis target var au bout"
   ]
  },
  {
   "cell_type": "code",
   "execution_count": null,
   "metadata": {},
   "outputs": [],
   "source": [
    "df = pd.read_csv('auto-mpg.data-original', header=None, delim_whitespace=True,\n",
    "            names=['mpg', 'cylinders', 'displacement', 'horsepower', 'weight',\n",
    "                   'acceleration', 'model year', 'origin', 'car name'])\n",
    "df"
   ]
  },
  {
   "cell_type": "code",
   "execution_count": null,
   "metadata": {},
   "outputs": [],
   "source": [
    "df.dtypes"
   ]
  },
  {
   "cell_type": "markdown",
   "metadata": {},
   "source": [
    "Since all columns of interest have dtype float64, we can confidently say that there is no exotic string encoding for NaNs. <br>\n",
    "NaNs could therefore be exotically encoded with floats (e.g. 999.99), so we use df.describe to spot \"outliers\", but cannot see any irrational values (e.g. negative values) <br>\n",
    "Therefore, we should identify NaNs with the traditional df.isna() <br>"
   ]
  },
  {
   "cell_type": "code",
   "execution_count": null,
   "metadata": {},
   "outputs": [],
   "source": [
    "df.describe()"
   ]
  },
  {
   "cell_type": "code",
   "execution_count": null,
   "metadata": {},
   "outputs": [],
   "source": [
    " df.isna().sum()"
   ]
  },
  {
   "cell_type": "code",
   "execution_count": null,
   "metadata": {},
   "outputs": [],
   "source": [
    "# If you open the file in a text pad on your computer, you will find some records with ? value for horsepower feature"
   ]
  },
  {
   "cell_type": "code",
   "execution_count": null,
   "metadata": {},
   "outputs": [],
   "source": [
    "df[df.isna().any(axis=1)]"
   ]
  },
  {
   "cell_type": "code",
   "execution_count": null,
   "metadata": {},
   "outputs": [],
   "source": [
    "df.dropna(inplace=True)"
   ]
  },
  {
   "cell_type": "code",
   "execution_count": null,
   "metadata": {},
   "outputs": [],
   "source": [
    " df.isna().sum()"
   ]
  },
  {
   "cell_type": "code",
   "execution_count": null,
   "metadata": {},
   "outputs": [],
   "source": [
    "df.drop('car name', axis=1, inplace=True)"
   ]
  },
  {
   "cell_type": "code",
   "execution_count": null,
   "metadata": {},
   "outputs": [],
   "source": [
    "df.reset_index(drop=True, inplace=True)\n",
    "df"
   ]
  },
  {
   "cell_type": "markdown",
   "metadata": {},
   "source": [
    "17) Add two or three binary features to meaningfully encode the three origins ('origin' feature, for which, initially, 1 stands for USA, 2 for Europe and 3 for Japan) 3\n",
    "."
   ]
  },
  {
   "cell_type": "markdown",
   "metadata": {},
   "source": [
    "Two methods are possible. 1) pd.get_dummies 2) Scikit Learn OneHotEncoder"
   ]
  },
  {
   "cell_type": "code",
   "execution_count": null,
   "metadata": {},
   "outputs": [],
   "source": [
    "# Before employing either method, we add the info\n",
    "df['origin'].replace([1,2,3],['USA','Europe', 'Japan'],inplace=True)\n",
    "df"
   ]
  },
  {
   "cell_type": "code",
   "execution_count": null,
   "metadata": {},
   "outputs": [],
   "source": [
    "# 1st solution using pd.get_dummies\n",
    "df = pd.concat([df,pd.get_dummies(df['origin'],prefix='country')]\n",
    "               ,axis=1).drop(['origin'],axis=1)\n",
    "# drop_first=True to drop one dim\n",
    "df"
   ]
  },
  {
   "cell_type": "code",
   "execution_count": null,
   "metadata": {},
   "outputs": [],
   "source": [
    "# 2nd solution using Sklearn OneHotEncoder\n",
    "enc = OneHotEncoder(handle_unknown='ignore')\n",
    "enc_df = pd.DataFrame(enc.fit_transform(df[['origin']]).toarray())\n",
    "enc_df.columns = enc.get_feature_names(['origin'])\n",
    "df = df.join(enc_df)\n",
    "df.drop('origin', axis=1, inplace=True)\n",
    "df\n",
    "# Can we put all of that into a pipeline?"
   ]
  },
  {
   "cell_type": "markdown",
   "metadata": {},
   "source": [
    "NB. We tried to add the OneHotEncoding to the pipeline (to use it in the last question), but we cannot easily rename the columns and drop the original \"origin\" column"
   ]
  },
  {
   "cell_type": "markdown",
   "metadata": {},
   "source": [
    "18) Select (manually) 9 rows of the dataset such that all 3 origins are represented, and model\n",
    "year is not constant. Get the least-squares estimator θˆ (with intercept) the prediction vector\n",
    "yˆ, considering only these 9 lines. What do you observe ? Why ?"
   ]
  },
  {
   "cell_type": "markdown",
   "metadata": {},
   "source": [
    "Should we add part of the pipeline here?"
   ]
  },
  {
   "cell_type": "code",
   "execution_count": null,
   "metadata": {},
   "outputs": [],
   "source": [
    "df2 = df.drop_duplicates('model year').sample(9).reset_index(drop=True)\n",
    "df2"
   ]
  },
  {
   "cell_type": "code",
   "execution_count": null,
   "metadata": {},
   "outputs": [],
   "source": [
    "# Multiple linear regression with Scikit learn\n",
    "X = df2.drop('mpg',axis=1)\n",
    "y = df2.mpg\n",
    "\n",
    "reg = LinearRegression().fit(X, y)\n",
    "\n",
    "theta_hat = reg.coef_\n",
    "intercept = reg.intercept_\n",
    "y_hat = X @ theta_hat + intercept \n",
    "y_hat\n",
    "\n",
    "print(theta_hat, intercept, y_hat, reg.score(X,y))\n",
    "\n"
   ]
  },
  {
   "cell_type": "markdown",
   "metadata": {},
   "source": [
    "Each time we change the sample, we see that the weights are different - we even\n",
    "sometimes get illogical weights (e.g. a positive weight for the \"weight\" feature, which \n",
    "means that the heavier the car, the higher the mpg, (and the less the car \"consumes\" fuel)) <br>\n",
    "We can see that the r2 score is 1 (y_hat = y), wich might show that we are \"overfitting\"\n",
    "the training set <br>\n",
    "Therefore, we cannot safely extrapolate those weights to new\n",
    "data because our training set is too small <br>"
   ]
  },
  {
   "cell_type": "markdown",
   "metadata": {},
   "source": [
    "19) Now, get the least-squares estimator θˆ and the prediction vector yˆ (with intercept) over the\n",
    "whole dataset, after performing scaling/centering (the columns must have unit standard\n",
    "deviation and be zero mean). Which variables seem to best explain gasoline consumption\n",
    "according to your model ? Why wouldn’t this answer make sense if the columns were not\n",
    "normalized ?"
   ]
  },
  {
   "cell_type": "code",
   "execution_count": null,
   "metadata": {},
   "outputs": [],
   "source": [
    "df"
   ]
  },
  {
   "cell_type": "code",
   "execution_count": null,
   "metadata": {},
   "outputs": [],
   "source": [
    "X = df.drop('mpg',axis=1).values\n",
    "y = df.mpg  \n",
    "print(X, y)"
   ]
  },
  {
   "cell_type": "code",
   "execution_count": null,
   "metadata": {},
   "outputs": [],
   "source": [
    "pipeline = Pipeline(steps=[('scaler', StandardScaler(copy=False)), ('regression', LinearRegression())])\n",
    "pipeline.fit(X, y)\n",
    "reg = pipeline.named_steps['regression']\n",
    "theta_hat = reg.coef_\n",
    "intercept = reg.intercept_\n",
    "print(theta_hat, intercept)"
   ]
  },
  {
   "cell_type": "code",
   "execution_count": null,
   "metadata": {},
   "outputs": [],
   "source": [
    "X"
   ]
  },
  {
   "cell_type": "markdown",
   "metadata": {},
   "source": [
    "We get r2 = 0.82, i.e. 82% of the var of the mpg can be explained by our weights.\n",
    "Weight is the most important feature. If the columns were not normalized, this would\n",
    "not make sense because the scale of weight is much higher than the other features\n",
    "and we would suspect the influence of weight to be overestimated.\n",
    "Here, having scaled the features, we can confidently say that weight is an\n",
    "important features, intependently of the range of values it takes"
   ]
  },
  {
   "cell_type": "code",
   "execution_count": null,
   "metadata": {},
   "outputs": [],
   "source": [
    "y_hat = X @ theta_hat + intercept \n",
    "y_hat"
   ]
  },
  {
   "cell_type": "markdown",
   "metadata": {},
   "source": [
    "20)"
   ]
  },
  {
   "cell_type": "code",
   "execution_count": null,
   "metadata": {},
   "outputs": [],
   "source": [
    "r = y - y_hat\n",
    "r_sq_norm = LA.norm(r)**2\n",
    "r_sq_norm"
   ]
  },
  {
   "cell_type": "code",
   "execution_count": null,
   "metadata": {},
   "outputs": [],
   "source": [
    "yn_bar = np.mean(y)\n",
    "yn_bar_vect = yn_bar * np.ones(len(y))\n",
    "yn_bar_vect"
   ]
  },
  {
   "cell_type": "code",
   "execution_count": null,
   "metadata": {},
   "outputs": [],
   "source": [
    "one = LA.norm(y - yn_bar_vect)**2\n",
    "two = r_sq_norm + LA.norm(y_hat - yn_bar_vect)**2\n",
    "print(one, two)\n",
    "np.isclose(one, two)"
   ]
  },
  {
   "cell_type": "markdown",
   "metadata": {},
   "source": [
    "21)"
   ]
  },
  {
   "cell_type": "code",
   "execution_count": null,
   "metadata": {
    "scrolled": true
   },
   "outputs": [],
   "source": [
    "X_test = pd.DataFrame(np.array([[6, 225, 100, 3233, 15.4, 117, 0, 0, 1]]), \n",
    "                      columns=['cylinders', 'displacement', 'horsepower', 'weight',\n",
    "                   'acceleration', 'model year', 'country_Europe', 'country_Japan', 'country_USA'])\n",
    "X_test"
   ]
  },
  {
   "cell_type": "code",
   "execution_count": null,
   "metadata": {},
   "outputs": [],
   "source": [
    "pipeline.predict(X_test)"
   ]
  },
  {
   "cell_type": "code",
   "execution_count": null,
   "metadata": {},
   "outputs": [],
   "source": [
    "# Double checking the result\n",
    "y_hat = X_test.values @ theta_hat + intercept\n",
    "y_hat"
   ]
  },
  {
   "cell_type": "code",
   "execution_count": null,
   "metadata": {},
   "outputs": [],
   "source": [
    "df.describe()"
   ]
  },
  {
   "cell_type": "markdown",
   "metadata": {},
   "source": [
    "53.1 MPG seems very high, indeed higher than the maximum (46.6), which means that the consumption is very low. <br>\n",
    "In our original model, the model year have a weight of 2.86, which is the highest weight, which means that the more recent the car, the higher the mpg (and the less it consumes fuel) <br>\n",
    "Here, we get a very high mpg because we are extrapolating the weights with model year 117, which is much bigger than what we had in our training data. <br>\n",
    "It would be interesting to make further analysis to understand if this linear relation is still true 35 years after the training data (it could have been exponential due to hybrid cars for instance?)"
   ]
  }
 ],
 "metadata": {
  "kernelspec": {
   "display_name": "Python 3",
   "language": "python",
   "name": "python3"
  },
  "language_info": {
   "codemirror_mode": {
    "name": "ipython",
    "version": 3
   },
   "file_extension": ".py",
   "mimetype": "text/x-python",
   "name": "python",
   "nbconvert_exporter": "python",
   "pygments_lexer": "ipython3",
   "version": "3.8.3"
  }
 },
 "nbformat": 4,
 "nbformat_minor": 4
}
