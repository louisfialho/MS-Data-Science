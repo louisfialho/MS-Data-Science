{
 "cells": [
  {
   "cell_type": "markdown",
   "metadata": {},
   "source": [
    "## Introduction to Python, Numpy and Scipy"
   ]
  },
  {
   "cell_type": "markdown",
   "metadata": {},
   "source": [
    "**1) From a word containing all the alphabet letters, generate with a string slicing the string cfilorux.\n",
    "Do the same for the string vxz.**"
   ]
  },
  {
   "cell_type": "code",
   "execution_count": null,
   "metadata": {},
   "outputs": [],
   "source": [
    "import string\n",
    "string1 = string.ascii_lowercase[:26]\n",
    "string2 = string.ascii_lowercase[2:26:3]\n",
    "string3 = string.ascii_lowercase[21:26:2]\n",
    "print (f'This is one option to get from {string1} to {string2} and {string3}') "
   ]
  },
  {
   "cell_type": "markdown",
   "metadata": {},
   "source": [
    "**2) Display the number π with 9 digits.**"
   ]
  },
  {
   "cell_type": "code",
   "execution_count": null,
   "metadata": {},
   "outputs": [],
   "source": [
    "import numpy as np\n",
    "pi = np.pi\n",
    "rounded = round(pi,9)\n",
    "print (f'The number π with 9 digits is {rounded}') "
   ]
  },
  {
   "cell_type": "markdown",
   "metadata": {},
   "source": [
    "3) Count the number of occurrences of each character in the string s=\"HelLo WorLd!!\". Output a\n",
    "dictionary that for each character associate the number of occurrences."
   ]
  },
  {
   "cell_type": "code",
   "execution_count": null,
   "metadata": {},
   "outputs": [],
   "source": [
    "s = \"HelLo WorLd!!\"\n",
    "d = {i : s.count(i) for i in set(s)}\n",
    "print (f'The count of all characters in {s} is :\\n' + str(d)) \n",
    "# Améliorations: créer une fonction et tester string"
   ]
  },
  {
   "cell_type": "markdown",
   "metadata": {},
   "source": [
    "4) Write a function performing the Cesar code : each character is replaced by the third next one (i.e.\n",
    "a by d, b by e, z by c). Test it."
   ]
  },
  {
   "cell_type": "code",
   "execution_count": null,
   "metadata": {},
   "outputs": [],
   "source": [
    "#A python program to illustrate Caesar Cipher Technique \n",
    "def encrypt(text,s): \n",
    "    result = \"\" \n",
    "  \n",
    "    # traverse text \n",
    "    for i in range(len(text)): \n",
    "        char = text[i] \n",
    "  \n",
    "        # Encrypt uppercase characters \n",
    "        if (char.isupper()): \n",
    "            result += chr((ord(char) + s-65) % 26 + 65) \n",
    "  \n",
    "        # Encrypt lowercase characters \n",
    "        else: \n",
    "            result += chr((ord(char) + s - 97) % 26 + 97) \n",
    "  \n",
    "    return result \n",
    "  \n",
    "#check the above function \n",
    "text = \"Louis!\"\n",
    "s = 3\n",
    "print(\"Text  : \" + text)\n",
    "print(\"Shift : \" + str(s))\n",
    "print(\"Cipher: \" + encrypt(text,s))\n",
    "#Pourquoi est-ce qu'il faut disjoindre cas uppercase/lowercase?"
   ]
  },
  {
   "cell_type": "markdown",
   "metadata": {},
   "source": [
    "5) Compute this product (one can approximate 8 by a large number n). Use for instance time to\n",
    "determine a fast version. Propose a version without loop, using Numpy"
   ]
  },
  {
   "cell_type": "code",
   "execution_count": null,
   "metadata": {},
   "outputs": [],
   "source": [
    "import time\n",
    "start = time.time()\n",
    "x = np.arange(1,100000)\n",
    "f = 2*(4*x**2)/(4*x**2-1)\n",
    "res = np.prod(f)\n",
    "end = time.time()\n",
    "time = round(end-start,5)\n",
    "print(f\"The product result is {res}. It took {time} sec to compute\")\n",
    "\n"
   ]
  },
  {
   "cell_type": "markdown",
   "metadata": {},
   "source": [
    "6) Without using for / while loops, create a random matrix M P R\n",
    "5ˆ6 with coefficients taken\n",
    "uniformly (and independently) in r´1, 1s. Substract to each even column of M, twice the value of\n",
    "the following (uneven) column Replace the negative values by 0 using a binary mask."
   ]
  },
  {
   "cell_type": "code",
   "execution_count": null,
   "metadata": {},
   "outputs": [],
   "source": [
    "from copy import copy\n",
    "\n",
    "# Creating a random matrix in Mp,r(5,6) with coefficients taken uniformly\n",
    "# (and independently) in [-1, 1]\n",
    "M = np.random.uniform(low=-1, high=1, size=(5,6))\n",
    "\n",
    "# Substract to each even column of M, twice the value of\n",
    "# the following (uneven) column \n",
    "N = copy(M) # avoiding reference\n",
    "N[:, 1::2]=[[00000]]\n",
    "N = np.roll(N, -1, axis=1)\n",
    "N = 2*N\n",
    "M = M-N\n",
    "\n",
    "# Replace the negative values by 0 using a binary mask\n",
    "M = np.where(M < 0, 0, M)\n",
    "\n",
    "print (f'The final matrix is :\\n' + str(M))\n",
    "\n"
   ]
  },
  {
   "cell_type": "markdown",
   "metadata": {},
   "source": [
    "7) Create a random matrix M P 5 ˆ 20 with coefficients taken uniformly (and independently) in\n",
    "r´1, 1s. Test whether G “ MJM is symmetric (semi-) definite positive, and that its eigenvalues are\n",
    "positive. What is the rank of G ? Compute the Euclidean norm of G. Compute the `1 norm of the\n",
    "columns of G."
   ]
  },
  {
   "cell_type": "code",
   "execution_count": null,
   "metadata": {},
   "outputs": [],
   "source": [
    "M = np.random.uniform(low=-1, high=1, size=(5,20))\n",
    "MT = M.T\n",
    "G = np.dot(MT, M)\n",
    "\n",
    "def is_sym_pos_sem_def(x):\n",
    "    if np.allclose(G, G.T) == True:\n",
    "        if np.all(np.linalg.eigvals(x) > 0):\n",
    "                  return \"The matrix is symmetric positive definite\"\n",
    "        elif np.all(np.linalg.eigvals(x) >= 0):\n",
    "                  return \"The matrix symmetric positive semi-definite\"\n",
    "        else:\n",
    "            return \"The matrix is symmetric but not positive semi-definite or definite\"\n",
    "    else:\n",
    "        return \"The matrix is not symmetric\"\n",
    "    \n",
    "print(is_sym_pos_sem_def(G))\n",
    "\n",
    "from numpy.linalg import matrix_rank\n",
    "rank = matrix_rank(G) \n",
    "print (f'The rank of G is {norm}')\n",
    "\n",
    "from numpy import linalg as LA\n",
    "norm = LA.norm(G)\n",
    "print (f'The Euclidian norm of G is {norm}')\n",
    "\n",
    "for i in range(0, np.shape(G)[1]):\n",
    "    c = G[:,i] \n",
    "    l1 = LA.norm(c, ord=1)  \n",
    "    print(f'The L1 norm of column {i+1} is {round(l1, 2)}')"
   ]
  },
  {
   "cell_type": "markdown",
   "metadata": {},
   "source": [
    "8) Use a list comprehension to construct a list with all squares from 1 to 121. Do the same using only\n",
    "numpy."
   ]
  },
  {
   "cell_type": "code",
   "execution_count": null,
   "metadata": {},
   "outputs": [],
   "source": [
    "squares = [i**2 for i in range(1, 12)] # compute it as math.sqrt(121)+1?\n",
    "squares_np = np.square(range(1,12))\n",
    "squares == squares_np"
   ]
  },
  {
   "cell_type": "markdown",
   "metadata": {},
   "source": [
    "## Introduction to Pandas, Matplotlib, etc."
   ]
  },
  {
   "cell_type": "markdown",
   "metadata": {},
   "source": [
    "**Let us use the dataset Individual household electric power consumption Data Set.**"
   ]
  },
  {
   "cell_type": "markdown",
   "metadata": {},
   "source": [
    "9) First, execute the following commands to download the data (this snippet is also in\n",
    "download_hpc.py on the Moodle if copy pasting fails) :"
   ]
  },
  {
   "cell_type": "code",
   "execution_count": 32,
   "metadata": {},
   "outputs": [],
   "source": [
    "from os import path\n",
    "import pandas as pd\n",
    "pd.options.mode.chained_assignment = None\n",
    "import urllib\n",
    "import zipfile\n",
    "import sys\n",
    "url = u'https://archive.ics.uci.edu/ml/machine-learning-databases/00235/'\n",
    "filename = 'household_power_consumption'\n",
    "zipfilename = filename + '.zip'\n",
    "Location = url + zipfilename\n",
    "if not(path.isfile('zipfilename')):\n",
    "    urllib.request.urlretrieve(Location, zipfilename)\n",
    "zip = zipfile.ZipFile(zipfilename)\n",
    "zip.extractall()\n",
    "na_values = ['?', '']\n",
    "fields = ['Date', 'Time', 'Global_active_power']\n",
    "df = pd.read_csv(filename + '.txt', sep=';', nrows=200000,\n",
    "na_values=na_values, usecols=fields)"
   ]
  },
  {
   "cell_type": "code",
   "execution_count": 33,
   "metadata": {},
   "outputs": [
    {
     "data": {
      "text/plain": [
       "(200000, 3)"
      ]
     },
     "execution_count": 33,
     "metadata": {},
     "output_type": "execute_result"
    }
   ],
   "source": [
    "df.shape"
   ]
  },
  {
   "cell_type": "code",
   "execution_count": 34,
   "metadata": {},
   "outputs": [
    {
     "data": {
      "text/plain": [
       "Index(['Date', 'Time', 'Global_active_power'], dtype='object')"
      ]
     },
     "execution_count": 34,
     "metadata": {},
     "output_type": "execute_result"
    }
   ],
   "source": [
    "df.columns"
   ]
  },
  {
   "cell_type": "code",
   "execution_count": 35,
   "metadata": {},
   "outputs": [
    {
     "data": {
      "text/html": [
       "<div>\n",
       "<style scoped>\n",
       "    .dataframe tbody tr th:only-of-type {\n",
       "        vertical-align: middle;\n",
       "    }\n",
       "\n",
       "    .dataframe tbody tr th {\n",
       "        vertical-align: top;\n",
       "    }\n",
       "\n",
       "    .dataframe thead th {\n",
       "        text-align: right;\n",
       "    }\n",
       "</style>\n",
       "<table border=\"1\" class=\"dataframe\">\n",
       "  <thead>\n",
       "    <tr style=\"text-align: right;\">\n",
       "      <th></th>\n",
       "      <th>Date</th>\n",
       "      <th>Time</th>\n",
       "      <th>Global_active_power</th>\n",
       "    </tr>\n",
       "  </thead>\n",
       "  <tbody>\n",
       "    <tr>\n",
       "      <th>0</th>\n",
       "      <td>16/12/2006</td>\n",
       "      <td>17:24:00</td>\n",
       "      <td>4.216</td>\n",
       "    </tr>\n",
       "    <tr>\n",
       "      <th>1</th>\n",
       "      <td>16/12/2006</td>\n",
       "      <td>17:25:00</td>\n",
       "      <td>5.360</td>\n",
       "    </tr>\n",
       "    <tr>\n",
       "      <th>2</th>\n",
       "      <td>16/12/2006</td>\n",
       "      <td>17:26:00</td>\n",
       "      <td>5.374</td>\n",
       "    </tr>\n",
       "    <tr>\n",
       "      <th>3</th>\n",
       "      <td>16/12/2006</td>\n",
       "      <td>17:27:00</td>\n",
       "      <td>5.388</td>\n",
       "    </tr>\n",
       "    <tr>\n",
       "      <th>4</th>\n",
       "      <td>16/12/2006</td>\n",
       "      <td>17:28:00</td>\n",
       "      <td>3.666</td>\n",
       "    </tr>\n",
       "    <tr>\n",
       "      <th>...</th>\n",
       "      <td>...</td>\n",
       "      <td>...</td>\n",
       "      <td>...</td>\n",
       "    </tr>\n",
       "    <tr>\n",
       "      <th>199995</th>\n",
       "      <td>4/5/2007</td>\n",
       "      <td>14:39:00</td>\n",
       "      <td>0.348</td>\n",
       "    </tr>\n",
       "    <tr>\n",
       "      <th>199996</th>\n",
       "      <td>4/5/2007</td>\n",
       "      <td>14:40:00</td>\n",
       "      <td>0.344</td>\n",
       "    </tr>\n",
       "    <tr>\n",
       "      <th>199997</th>\n",
       "      <td>4/5/2007</td>\n",
       "      <td>14:41:00</td>\n",
       "      <td>0.342</td>\n",
       "    </tr>\n",
       "    <tr>\n",
       "      <th>199998</th>\n",
       "      <td>4/5/2007</td>\n",
       "      <td>14:42:00</td>\n",
       "      <td>0.340</td>\n",
       "    </tr>\n",
       "    <tr>\n",
       "      <th>199999</th>\n",
       "      <td>4/5/2007</td>\n",
       "      <td>14:43:00</td>\n",
       "      <td>0.370</td>\n",
       "    </tr>\n",
       "  </tbody>\n",
       "</table>\n",
       "<p>200000 rows × 3 columns</p>\n",
       "</div>"
      ],
      "text/plain": [
       "              Date      Time  Global_active_power\n",
       "0       16/12/2006  17:24:00                4.216\n",
       "1       16/12/2006  17:25:00                5.360\n",
       "2       16/12/2006  17:26:00                5.374\n",
       "3       16/12/2006  17:27:00                5.388\n",
       "4       16/12/2006  17:28:00                3.666\n",
       "...            ...       ...                  ...\n",
       "199995    4/5/2007  14:39:00                0.348\n",
       "199996    4/5/2007  14:40:00                0.344\n",
       "199997    4/5/2007  14:41:00                0.342\n",
       "199998    4/5/2007  14:42:00                0.340\n",
       "199999    4/5/2007  14:43:00                0.370\n",
       "\n",
       "[200000 rows x 3 columns]"
      ]
     },
     "execution_count": 35,
     "metadata": {},
     "output_type": "execute_result"
    }
   ],
   "source": [
    "df"
   ]
  },
  {
   "cell_type": "markdown",
   "metadata": {},
   "source": [
    "We only focus on the Global_active_power feature for the moment."
   ]
  },
  {
   "cell_type": "markdown",
   "metadata": {},
   "source": [
    "10) Detect and count the number of line with missing values"
   ]
  },
  {
   "cell_type": "code",
   "execution_count": 36,
   "metadata": {},
   "outputs": [
    {
     "data": {
      "text/plain": [
       "Date                    object\n",
       "Time                    object\n",
       "Global_active_power    float64\n",
       "dtype: object"
      ]
     },
     "execution_count": 36,
     "metadata": {},
     "output_type": "execute_result"
    }
   ],
   "source": [
    "df.dtypes"
   ]
  },
  {
   "cell_type": "code",
   "execution_count": 37,
   "metadata": {},
   "outputs": [
    {
     "data": {
      "text/html": [
       "<div>\n",
       "<style scoped>\n",
       "    .dataframe tbody tr th:only-of-type {\n",
       "        vertical-align: middle;\n",
       "    }\n",
       "\n",
       "    .dataframe tbody tr th {\n",
       "        vertical-align: top;\n",
       "    }\n",
       "\n",
       "    .dataframe thead th {\n",
       "        text-align: right;\n",
       "    }\n",
       "</style>\n",
       "<table border=\"1\" class=\"dataframe\">\n",
       "  <thead>\n",
       "    <tr style=\"text-align: right;\">\n",
       "      <th></th>\n",
       "      <th>Date</th>\n",
       "      <th>Time</th>\n",
       "      <th>Global_active_power</th>\n",
       "    </tr>\n",
       "  </thead>\n",
       "  <tbody>\n",
       "    <tr>\n",
       "      <th>0</th>\n",
       "      <td>False</td>\n",
       "      <td>False</td>\n",
       "      <td>False</td>\n",
       "    </tr>\n",
       "    <tr>\n",
       "      <th>1</th>\n",
       "      <td>False</td>\n",
       "      <td>False</td>\n",
       "      <td>False</td>\n",
       "    </tr>\n",
       "    <tr>\n",
       "      <th>2</th>\n",
       "      <td>False</td>\n",
       "      <td>False</td>\n",
       "      <td>False</td>\n",
       "    </tr>\n",
       "    <tr>\n",
       "      <th>3</th>\n",
       "      <td>False</td>\n",
       "      <td>False</td>\n",
       "      <td>False</td>\n",
       "    </tr>\n",
       "    <tr>\n",
       "      <th>4</th>\n",
       "      <td>False</td>\n",
       "      <td>False</td>\n",
       "      <td>False</td>\n",
       "    </tr>\n",
       "    <tr>\n",
       "      <th>...</th>\n",
       "      <td>...</td>\n",
       "      <td>...</td>\n",
       "      <td>...</td>\n",
       "    </tr>\n",
       "    <tr>\n",
       "      <th>199995</th>\n",
       "      <td>False</td>\n",
       "      <td>False</td>\n",
       "      <td>False</td>\n",
       "    </tr>\n",
       "    <tr>\n",
       "      <th>199996</th>\n",
       "      <td>False</td>\n",
       "      <td>False</td>\n",
       "      <td>False</td>\n",
       "    </tr>\n",
       "    <tr>\n",
       "      <th>199997</th>\n",
       "      <td>False</td>\n",
       "      <td>False</td>\n",
       "      <td>False</td>\n",
       "    </tr>\n",
       "    <tr>\n",
       "      <th>199998</th>\n",
       "      <td>False</td>\n",
       "      <td>False</td>\n",
       "      <td>False</td>\n",
       "    </tr>\n",
       "    <tr>\n",
       "      <th>199999</th>\n",
       "      <td>False</td>\n",
       "      <td>False</td>\n",
       "      <td>False</td>\n",
       "    </tr>\n",
       "  </tbody>\n",
       "</table>\n",
       "<p>200000 rows × 3 columns</p>\n",
       "</div>"
      ],
      "text/plain": [
       "         Date   Time  Global_active_power\n",
       "0       False  False                False\n",
       "1       False  False                False\n",
       "2       False  False                False\n",
       "3       False  False                False\n",
       "4       False  False                False\n",
       "...       ...    ...                  ...\n",
       "199995  False  False                False\n",
       "199996  False  False                False\n",
       "199997  False  False                False\n",
       "199998  False  False                False\n",
       "199999  False  False                False\n",
       "\n",
       "[200000 rows x 3 columns]"
      ]
     },
     "execution_count": 37,
     "metadata": {},
     "output_type": "execute_result"
    }
   ],
   "source": [
    "df.isna()\n",
    "\n",
    "# we have to be aware of the limitations of .isna which only surfaces NaN or None values. \n",
    "# in a real setting we would devise strategies to identify other types of missing values."
   ]
  },
  {
   "cell_type": "code",
   "execution_count": 38,
   "metadata": {},
   "outputs": [
    {
     "data": {
      "text/html": [
       "<div>\n",
       "<style scoped>\n",
       "    .dataframe tbody tr th:only-of-type {\n",
       "        vertical-align: middle;\n",
       "    }\n",
       "\n",
       "    .dataframe tbody tr th {\n",
       "        vertical-align: top;\n",
       "    }\n",
       "\n",
       "    .dataframe thead th {\n",
       "        text-align: right;\n",
       "    }\n",
       "</style>\n",
       "<table border=\"1\" class=\"dataframe\">\n",
       "  <thead>\n",
       "    <tr style=\"text-align: right;\">\n",
       "      <th></th>\n",
       "      <th>Date</th>\n",
       "      <th>Time</th>\n",
       "      <th>Global_active_power</th>\n",
       "    </tr>\n",
       "  </thead>\n",
       "  <tbody>\n",
       "    <tr>\n",
       "      <th>6839</th>\n",
       "      <td>21/12/2006</td>\n",
       "      <td>11:23:00</td>\n",
       "      <td>NaN</td>\n",
       "    </tr>\n",
       "    <tr>\n",
       "      <th>6840</th>\n",
       "      <td>21/12/2006</td>\n",
       "      <td>11:24:00</td>\n",
       "      <td>NaN</td>\n",
       "    </tr>\n",
       "    <tr>\n",
       "      <th>19724</th>\n",
       "      <td>30/12/2006</td>\n",
       "      <td>10:08:00</td>\n",
       "      <td>NaN</td>\n",
       "    </tr>\n",
       "    <tr>\n",
       "      <th>19725</th>\n",
       "      <td>30/12/2006</td>\n",
       "      <td>10:09:00</td>\n",
       "      <td>NaN</td>\n",
       "    </tr>\n",
       "    <tr>\n",
       "      <th>41832</th>\n",
       "      <td>14/1/2007</td>\n",
       "      <td>18:36:00</td>\n",
       "      <td>NaN</td>\n",
       "    </tr>\n",
       "    <tr>\n",
       "      <th>...</th>\n",
       "      <td>...</td>\n",
       "      <td>...</td>\n",
       "      <td>...</td>\n",
       "    </tr>\n",
       "    <tr>\n",
       "      <th>194215</th>\n",
       "      <td>30/4/2007</td>\n",
       "      <td>14:19:00</td>\n",
       "      <td>NaN</td>\n",
       "    </tr>\n",
       "    <tr>\n",
       "      <th>194216</th>\n",
       "      <td>30/4/2007</td>\n",
       "      <td>14:20:00</td>\n",
       "      <td>NaN</td>\n",
       "    </tr>\n",
       "    <tr>\n",
       "      <th>194217</th>\n",
       "      <td>30/4/2007</td>\n",
       "      <td>14:21:00</td>\n",
       "      <td>NaN</td>\n",
       "    </tr>\n",
       "    <tr>\n",
       "      <th>194218</th>\n",
       "      <td>30/4/2007</td>\n",
       "      <td>14:22:00</td>\n",
       "      <td>NaN</td>\n",
       "    </tr>\n",
       "    <tr>\n",
       "      <th>194219</th>\n",
       "      <td>30/4/2007</td>\n",
       "      <td>14:23:00</td>\n",
       "      <td>NaN</td>\n",
       "    </tr>\n",
       "  </tbody>\n",
       "</table>\n",
       "<p>3732 rows × 3 columns</p>\n",
       "</div>"
      ],
      "text/plain": [
       "              Date      Time  Global_active_power\n",
       "6839    21/12/2006  11:23:00                  NaN\n",
       "6840    21/12/2006  11:24:00                  NaN\n",
       "19724   30/12/2006  10:08:00                  NaN\n",
       "19725   30/12/2006  10:09:00                  NaN\n",
       "41832    14/1/2007  18:36:00                  NaN\n",
       "...            ...       ...                  ...\n",
       "194215   30/4/2007  14:19:00                  NaN\n",
       "194216   30/4/2007  14:20:00                  NaN\n",
       "194217   30/4/2007  14:21:00                  NaN\n",
       "194218   30/4/2007  14:22:00                  NaN\n",
       "194219   30/4/2007  14:23:00                  NaN\n",
       "\n",
       "[3732 rows x 3 columns]"
      ]
     },
     "execution_count": 38,
     "metadata": {},
     "output_type": "execute_result"
    }
   ],
   "source": [
    "df[df.isna().any(axis=1)] # any returns the row if at least one value in the row is true"
   ]
  },
  {
   "cell_type": "code",
   "execution_count": 39,
   "metadata": {},
   "outputs": [
    {
     "data": {
      "text/plain": [
       "Date                      0\n",
       "Time                      0\n",
       "Global_active_power    3732\n",
       "dtype: int64"
      ]
     },
     "execution_count": 39,
     "metadata": {},
     "output_type": "execute_result"
    }
   ],
   "source": [
    "df.isna().sum()"
   ]
  },
  {
   "cell_type": "markdown",
   "metadata": {},
   "source": [
    "11) Erase all such lines."
   ]
  },
  {
   "cell_type": "code",
   "execution_count": 40,
   "metadata": {},
   "outputs": [],
   "source": [
    "df = df.dropna() # drop rows with at least one NaN value "
   ]
  },
  {
   "cell_type": "code",
   "execution_count": 41,
   "metadata": {},
   "outputs": [
    {
     "data": {
      "text/plain": [
       "(196268, 3)"
      ]
     },
     "execution_count": 41,
     "metadata": {},
     "output_type": "execute_result"
    }
   ],
   "source": [
    "df.shape"
   ]
  },
  {
   "cell_type": "code",
   "execution_count": 42,
   "metadata": {},
   "outputs": [
    {
     "data": {
      "text/plain": [
       "Date                   0\n",
       "Time                   0\n",
       "Global_active_power    0\n",
       "dtype: int64"
      ]
     },
     "execution_count": 42,
     "metadata": {},
     "output_type": "execute_result"
    }
   ],
   "source": [
    "df.isna().sum()"
   ]
  },
  {
   "cell_type": "markdown",
   "metadata": {},
   "source": [
    "12) Use to_datetime and set_index to create a Time Series (beware of the international dates format\n",
    "that is different from the French standard)."
   ]
  },
  {
   "cell_type": "code",
   "execution_count": 43,
   "metadata": {},
   "outputs": [
    {
     "name": "stdout",
     "output_type": "stream",
     "text": [
      "                     Global_active_power\n",
      "Datetime                                \n",
      "2006-12-16 17:24:00                4.216\n",
      "2006-12-16 17:25:00                5.360\n",
      "2006-12-16 17:26:00                5.374\n",
      "2006-12-16 17:27:00                5.388\n",
      "2006-12-16 17:28:00                3.666\n",
      "(196268, 1)\n"
     ]
    }
   ],
   "source": [
    "# Concatenate Date and Time columns into a new Datetime column\n",
    "df['Datetime'] = df['Date'] + ' ' + df['Time']\n",
    "\n",
    "# Convert Datetime to datetime format\n",
    "df['Datetime'] =  pd.to_datetime(df['Datetime'], dayfirst=True)\n",
    "# print(df.dtypes) Datetime is of datetime64[ns] type\n",
    "\n",
    "# Set the converted column to index\n",
    "df = df.set_index('Datetime')\n",
    "df = df.drop(df.columns[[0, 1]], axis=1)\n",
    "print(df.head())\n",
    "print(df.shape)"
   ]
  },
  {
   "cell_type": "markdown",
   "metadata": {},
   "source": [
    "13) Display the graphic of daily averages, between January 1 2007 and April 30 2007. Propose an\n",
    "explanation for the consumption behavior between February and early April. On top of matplotlib\n",
    "you could use the seaborn package for nicer display"
   ]
  },
  {
   "cell_type": "code",
   "execution_count": 44,
   "metadata": {},
   "outputs": [
    {
     "name": "stdout",
     "output_type": "stream",
     "text": [
      "                     Global_active_power\n",
      "Datetime                                \n",
      "2007-01-01 00:00:00                2.580\n",
      "2007-01-01 00:01:00                2.552\n",
      "2007-01-01 00:02:00                2.550\n",
      "2007-01-01 00:03:00                2.550\n",
      "2007-01-01 00:04:00                2.554\n",
      "...                                  ...\n",
      "2007-04-30 23:55:00                0.362\n",
      "2007-04-30 23:56:00                0.362\n",
      "2007-04-30 23:57:00                0.362\n",
      "2007-04-30 23:58:00                0.358\n",
      "2007-04-30 23:59:00                0.356\n",
      "\n",
      "[169072 rows x 1 columns]\n",
      "(169072, 1)\n",
      "            Global_active_power\n",
      "Datetime                       \n",
      "2007-01-01             1.909031\n",
      "2007-01-02             0.881414\n",
      "2007-01-03             0.704204\n",
      "2007-01-04             2.263481\n",
      "2007-01-05             1.884281\n",
      "...                         ...\n",
      "2007-04-26             0.885740\n",
      "2007-04-27             0.759953\n",
      "2007-04-28             1.082762\n",
      "2007-04-29                  NaN\n",
      "2007-04-30             0.730594\n",
      "\n",
      "[120 rows x 1 columns]\n",
      "(120, 1)\n"
     ]
    },
    {
     "data": {
      "text/plain": [
       "Text(0, 0.5, 'Household global active power (in kilowatt)')"
      ]
     },
     "execution_count": 44,
     "metadata": {},
     "output_type": "execute_result"
    },
    {
     "data": {
      "image/png": "[encoded data removed]",
      "text/plain": [
       "<Figure size 432x288 with 1 Axes>"
      ]
     },
     "metadata": {
      "needs_background": "light"
     },
     "output_type": "display_data"
    }
   ],
   "source": [
    "# Create a new dataframe between January 1 2007 and April 30 2007\n",
    "df2 = df.loc['2007-01-01':'2007-04-30']  \n",
    "print(df2)\n",
    "print(df2.shape) # we only lose 15 days\n",
    "\n",
    "# Get daily averages\n",
    "df3 = df2.resample('D').mean()\n",
    "print(df3) # We get NaNs! How come!\n",
    "print(df3.shape) # We get 120 rows, i.e. 4x30 days\n",
    "\n",
    "# Display it using matplotlib \n",
    "import matplotlib.pyplot as plt\n",
    "df3.plot()\n",
    "plt.xlabel(\"Daily average\")\n",
    "plt.ylabel(\"Household global active power (in kilowatt)\")\n",
    "\n",
    "# Display it using Seaborn\n",
    "# Interpretation Feb/April\n",
    "\n",
    "# fluctuating around average 1.5, mostly between 1 and 2 \n",
    "# we get 4 peaks per months, probably on weekends (further analysis required: time series decomposition) (cyclycity)\n",
    "# we have 2 outliers below average: end of feb, end of april\n",
    "# Feb 23th - March 3rd: supply outage? A min was reached Feb 25th\n"
   ]
  },
  {
   "cell_type": "code",
   "execution_count": 45,
   "metadata": {},
   "outputs": [
    {
     "data": {
      "text/plain": [
       "<matplotlib.axes._subplots.AxesSubplot at 0x7fc8b2160b20>"
      ]
     },
     "execution_count": 45,
     "metadata": {},
     "output_type": "execute_result"
    },
    {
     "data": {
      "image/png": "[encoded data removed]",
      "text/plain": [
       "<Figure size 432x288 with 1 Axes>"
      ]
     },
     "metadata": {},
     "output_type": "display_data"
    }
   ],
   "source": [
    "import seaborn as sns\n",
    "sns.set()\n",
    "sns.barplot(x=df3.index, y=\"Global_active_power\", data=df3)\n",
    "# x-axis not showing up"
   ]
  },
  {
   "cell_type": "code",
   "execution_count": 46,
   "metadata": {},
   "outputs": [
    {
     "data": {
      "text/plain": [
       "Global_active_power    1\n",
       "dtype: int64"
      ]
     },
     "execution_count": 46,
     "metadata": {},
     "output_type": "execute_result"
    }
   ],
   "source": [
    "df3.isna().sum()"
   ]
  },
  {
   "cell_type": "code",
   "execution_count": null,
   "metadata": {},
   "outputs": [],
   "source": [
    "df3[df3.isna().any(axis=1)] # any returns the row if at least one value in the row is true"
   ]
  },
  {
   "cell_type": "code",
   "execution_count": null,
   "metadata": {},
   "outputs": [],
   "source": [
    "df4 = df2.loc['2007-04-29']  \n",
    "df4\n",
    "# it seems that we have no data for Apr 29th"
   ]
  },
  {
   "cell_type": "code",
   "execution_count": null,
   "metadata": {},
   "outputs": [],
   "source": [
    "df3.loc['2007-02-15':'2007-03-5'] "
   ]
  },
  {
   "cell_type": "code",
   "execution_count": null,
   "metadata": {},
   "outputs": [],
   "source": [
    "df5 = df2.loc['2007-02-28'] \n",
    "df5.plot()\n",
    "# usual pattern\n",
    "# 0.2 and 0.4 seems to be the floor consumption (batteries charging etc)\n",
    "# peak when people wake up and in the evening\n",
    "# except on saturday nights where there is more activity at night\n",
    "\n",
    "# Feb 23th - March 3rd: \n",
    "# average is much lower (between 0.2 and 04)\n",
    "# there are regular peaks throughout the \n",
    "# day (every 10 hour)"
   ]
  },
  {
   "cell_type": "markdown",
   "metadata": {},
   "source": [
    "## Let us now add some temperature information for our study. Such information can be found on Moodle in “TG_STAID011249.txt”. Here the temperatures available are the one in Orly (note that the place were the consumption was collected is unknown in the previous dataset)."
   ]
  },
  {
   "cell_type": "markdown",
   "metadata": {},
   "source": [
    "**14) Load the dataset with pandas, and keep only the DATE and TG columns. Divide by 10 the TG column\n",
    "to get Celsius temperature. Treat missing values as NaNs.**"
   ]
  },
  {
   "cell_type": "code",
   "execution_count": 12,
   "metadata": {},
   "outputs": [
    {
     "data": {
      "text/html": [
       "<div>\n",
       "<style scoped>\n",
       "    .dataframe tbody tr th:only-of-type {\n",
       "        vertical-align: middle;\n",
       "    }\n",
       "\n",
       "    .dataframe tbody tr th {\n",
       "        vertical-align: top;\n",
       "    }\n",
       "\n",
       "    .dataframe thead th {\n",
       "        text-align: right;\n",
       "    }\n",
       "</style>\n",
       "<table border=\"1\" class=\"dataframe\">\n",
       "  <thead>\n",
       "    <tr style=\"text-align: right;\">\n",
       "      <th></th>\n",
       "      <th>STAID</th>\n",
       "      <th>SOUID</th>\n",
       "      <th>DATE</th>\n",
       "      <th>TG</th>\n",
       "      <th>Q_TG</th>\n",
       "    </tr>\n",
       "  </thead>\n",
       "  <tbody>\n",
       "    <tr>\n",
       "      <th>0</th>\n",
       "      <td>11249</td>\n",
       "      <td>71642</td>\n",
       "      <td>19210301</td>\n",
       "      <td>50</td>\n",
       "      <td>0</td>\n",
       "    </tr>\n",
       "    <tr>\n",
       "      <th>1</th>\n",
       "      <td>11249</td>\n",
       "      <td>71642</td>\n",
       "      <td>19210302</td>\n",
       "      <td>46</td>\n",
       "      <td>0</td>\n",
       "    </tr>\n",
       "    <tr>\n",
       "      <th>2</th>\n",
       "      <td>11249</td>\n",
       "      <td>71642</td>\n",
       "      <td>19210303</td>\n",
       "      <td>46</td>\n",
       "      <td>0</td>\n",
       "    </tr>\n",
       "    <tr>\n",
       "      <th>3</th>\n",
       "      <td>11249</td>\n",
       "      <td>71642</td>\n",
       "      <td>19210304</td>\n",
       "      <td>31</td>\n",
       "      <td>0</td>\n",
       "    </tr>\n",
       "    <tr>\n",
       "      <th>4</th>\n",
       "      <td>11249</td>\n",
       "      <td>71642</td>\n",
       "      <td>19210305</td>\n",
       "      <td>95</td>\n",
       "      <td>0</td>\n",
       "    </tr>\n",
       "    <tr>\n",
       "      <th>...</th>\n",
       "      <td>...</td>\n",
       "      <td>...</td>\n",
       "      <td>...</td>\n",
       "      <td>...</td>\n",
       "      <td>...</td>\n",
       "    </tr>\n",
       "    <tr>\n",
       "      <th>34878</th>\n",
       "      <td>11249</td>\n",
       "      <td>907149</td>\n",
       "      <td>20160827</td>\n",
       "      <td>266</td>\n",
       "      <td>0</td>\n",
       "    </tr>\n",
       "    <tr>\n",
       "      <th>34879</th>\n",
       "      <td>11249</td>\n",
       "      <td>907149</td>\n",
       "      <td>20160828</td>\n",
       "      <td>255</td>\n",
       "      <td>0</td>\n",
       "    </tr>\n",
       "    <tr>\n",
       "      <th>34880</th>\n",
       "      <td>11249</td>\n",
       "      <td>907149</td>\n",
       "      <td>20160829</td>\n",
       "      <td>206</td>\n",
       "      <td>0</td>\n",
       "    </tr>\n",
       "    <tr>\n",
       "      <th>34881</th>\n",
       "      <td>11249</td>\n",
       "      <td>907149</td>\n",
       "      <td>20160830</td>\n",
       "      <td>204</td>\n",
       "      <td>0</td>\n",
       "    </tr>\n",
       "    <tr>\n",
       "      <th>34882</th>\n",
       "      <td>11249</td>\n",
       "      <td>907149</td>\n",
       "      <td>20160831</td>\n",
       "      <td>210</td>\n",
       "      <td>0</td>\n",
       "    </tr>\n",
       "  </tbody>\n",
       "</table>\n",
       "<p>34883 rows × 5 columns</p>\n",
       "</div>"
      ],
      "text/plain": [
       "       STAID   SOUID      DATE     TG   Q_TG\n",
       "0      11249   71642  19210301     50      0\n",
       "1      11249   71642  19210302     46      0\n",
       "2      11249   71642  19210303     46      0\n",
       "3      11249   71642  19210304     31      0\n",
       "4      11249   71642  19210305     95      0\n",
       "...      ...     ...       ...    ...    ...\n",
       "34878  11249  907149  20160827    266      0\n",
       "34879  11249  907149  20160828    255      0\n",
       "34880  11249  907149  20160829    206      0\n",
       "34881  11249  907149  20160830    204      0\n",
       "34882  11249  907149  20160831    210      0\n",
       "\n",
       "[34883 rows x 5 columns]"
      ]
     },
     "execution_count": 12,
     "metadata": {},
     "output_type": "execute_result"
    }
   ],
   "source": [
    "import pandas as pd\n",
    "import numpy as np\n",
    "pd.options.mode.chained_assignment = None\n",
    "orly = pd.read_csv('TG_STAID011249.txt', sep=\",\")\n",
    "orly \n",
    "\n",
    "# df = pd.read_csv('some_data.csv', usecols = ['DATE','TG']) throws an error"
   ]
  },
  {
   "cell_type": "code",
   "execution_count": 13,
   "metadata": {},
   "outputs": [
    {
     "data": {
      "text/plain": [
       "Index(['STAID', ' SOUID', '    DATE', '   TG', ' Q_TG'], dtype='object')"
      ]
     },
     "execution_count": 13,
     "metadata": {},
     "output_type": "execute_result"
    }
   ],
   "source": [
    "orly.columns\n",
    "# We got an error because the colnames have whitespace"
   ]
  },
  {
   "cell_type": "code",
   "execution_count": 14,
   "metadata": {},
   "outputs": [
    {
     "data": {
      "text/plain": [
       "['STAID', 'SOUID', 'DATE', 'TG', 'Q_TG']"
      ]
     },
     "execution_count": 14,
     "metadata": {},
     "output_type": "execute_result"
    }
   ],
   "source": [
    "old_cols = list(orly.columns)\n",
    "new_cols = [i.strip() for i in old_cols] \n",
    "new_cols"
   ]
  },
  {
   "cell_type": "code",
   "execution_count": 15,
   "metadata": {},
   "outputs": [
    {
     "data": {
      "text/plain": [
       "Index(['STAID', 'SOUID', 'DATE', 'TG', 'Q_TG'], dtype='object')"
      ]
     },
     "execution_count": 15,
     "metadata": {},
     "output_type": "execute_result"
    }
   ],
   "source": [
    "orly.columns = new_cols\n",
    "orly.columns"
   ]
  },
  {
   "cell_type": "code",
   "execution_count": 16,
   "metadata": {},
   "outputs": [
    {
     "data": {
      "text/html": [
       "<div>\n",
       "<style scoped>\n",
       "    .dataframe tbody tr th:only-of-type {\n",
       "        vertical-align: middle;\n",
       "    }\n",
       "\n",
       "    .dataframe tbody tr th {\n",
       "        vertical-align: top;\n",
       "    }\n",
       "\n",
       "    .dataframe thead th {\n",
       "        text-align: right;\n",
       "    }\n",
       "</style>\n",
       "<table border=\"1\" class=\"dataframe\">\n",
       "  <thead>\n",
       "    <tr style=\"text-align: right;\">\n",
       "      <th></th>\n",
       "      <th>DATE</th>\n",
       "      <th>TG</th>\n",
       "    </tr>\n",
       "  </thead>\n",
       "  <tbody>\n",
       "    <tr>\n",
       "      <th>0</th>\n",
       "      <td>19210301</td>\n",
       "      <td>50</td>\n",
       "    </tr>\n",
       "    <tr>\n",
       "      <th>1</th>\n",
       "      <td>19210302</td>\n",
       "      <td>46</td>\n",
       "    </tr>\n",
       "    <tr>\n",
       "      <th>2</th>\n",
       "      <td>19210303</td>\n",
       "      <td>46</td>\n",
       "    </tr>\n",
       "    <tr>\n",
       "      <th>3</th>\n",
       "      <td>19210304</td>\n",
       "      <td>31</td>\n",
       "    </tr>\n",
       "    <tr>\n",
       "      <th>4</th>\n",
       "      <td>19210305</td>\n",
       "      <td>95</td>\n",
       "    </tr>\n",
       "    <tr>\n",
       "      <th>...</th>\n",
       "      <td>...</td>\n",
       "      <td>...</td>\n",
       "    </tr>\n",
       "    <tr>\n",
       "      <th>34878</th>\n",
       "      <td>20160827</td>\n",
       "      <td>266</td>\n",
       "    </tr>\n",
       "    <tr>\n",
       "      <th>34879</th>\n",
       "      <td>20160828</td>\n",
       "      <td>255</td>\n",
       "    </tr>\n",
       "    <tr>\n",
       "      <th>34880</th>\n",
       "      <td>20160829</td>\n",
       "      <td>206</td>\n",
       "    </tr>\n",
       "    <tr>\n",
       "      <th>34881</th>\n",
       "      <td>20160830</td>\n",
       "      <td>204</td>\n",
       "    </tr>\n",
       "    <tr>\n",
       "      <th>34882</th>\n",
       "      <td>20160831</td>\n",
       "      <td>210</td>\n",
       "    </tr>\n",
       "  </tbody>\n",
       "</table>\n",
       "<p>34883 rows × 2 columns</p>\n",
       "</div>"
      ],
      "text/plain": [
       "           DATE   TG\n",
       "0      19210301   50\n",
       "1      19210302   46\n",
       "2      19210303   46\n",
       "3      19210304   31\n",
       "4      19210305   95\n",
       "...         ...  ...\n",
       "34878  20160827  266\n",
       "34879  20160828  255\n",
       "34880  20160829  206\n",
       "34881  20160830  204\n",
       "34882  20160831  210\n",
       "\n",
       "[34883 rows x 2 columns]"
      ]
     },
     "execution_count": 16,
     "metadata": {},
     "output_type": "execute_result"
    }
   ],
   "source": [
    "orly = orly[['DATE','TG']]\n",
    "orly"
   ]
  },
  {
   "cell_type": "code",
   "execution_count": 17,
   "metadata": {},
   "outputs": [
    {
     "data": {
      "text/html": [
       "<div>\n",
       "<style scoped>\n",
       "    .dataframe tbody tr th:only-of-type {\n",
       "        vertical-align: middle;\n",
       "    }\n",
       "\n",
       "    .dataframe tbody tr th {\n",
       "        vertical-align: top;\n",
       "    }\n",
       "\n",
       "    .dataframe thead th {\n",
       "        text-align: right;\n",
       "    }\n",
       "</style>\n",
       "<table border=\"1\" class=\"dataframe\">\n",
       "  <thead>\n",
       "    <tr style=\"text-align: right;\">\n",
       "      <th></th>\n",
       "      <th>DATE</th>\n",
       "      <th>TG</th>\n",
       "    </tr>\n",
       "  </thead>\n",
       "  <tbody>\n",
       "    <tr>\n",
       "      <th>0</th>\n",
       "      <td>19210301</td>\n",
       "      <td>5.0</td>\n",
       "    </tr>\n",
       "    <tr>\n",
       "      <th>1</th>\n",
       "      <td>19210302</td>\n",
       "      <td>4.6</td>\n",
       "    </tr>\n",
       "    <tr>\n",
       "      <th>2</th>\n",
       "      <td>19210303</td>\n",
       "      <td>4.6</td>\n",
       "    </tr>\n",
       "    <tr>\n",
       "      <th>3</th>\n",
       "      <td>19210304</td>\n",
       "      <td>3.1</td>\n",
       "    </tr>\n",
       "    <tr>\n",
       "      <th>4</th>\n",
       "      <td>19210305</td>\n",
       "      <td>9.5</td>\n",
       "    </tr>\n",
       "    <tr>\n",
       "      <th>...</th>\n",
       "      <td>...</td>\n",
       "      <td>...</td>\n",
       "    </tr>\n",
       "    <tr>\n",
       "      <th>34878</th>\n",
       "      <td>20160827</td>\n",
       "      <td>26.6</td>\n",
       "    </tr>\n",
       "    <tr>\n",
       "      <th>34879</th>\n",
       "      <td>20160828</td>\n",
       "      <td>25.5</td>\n",
       "    </tr>\n",
       "    <tr>\n",
       "      <th>34880</th>\n",
       "      <td>20160829</td>\n",
       "      <td>20.6</td>\n",
       "    </tr>\n",
       "    <tr>\n",
       "      <th>34881</th>\n",
       "      <td>20160830</td>\n",
       "      <td>20.4</td>\n",
       "    </tr>\n",
       "    <tr>\n",
       "      <th>34882</th>\n",
       "      <td>20160831</td>\n",
       "      <td>21.0</td>\n",
       "    </tr>\n",
       "  </tbody>\n",
       "</table>\n",
       "<p>34883 rows × 2 columns</p>\n",
       "</div>"
      ],
      "text/plain": [
       "           DATE    TG\n",
       "0      19210301   5.0\n",
       "1      19210302   4.6\n",
       "2      19210303   4.6\n",
       "3      19210304   3.1\n",
       "4      19210305   9.5\n",
       "...         ...   ...\n",
       "34878  20160827  26.6\n",
       "34879  20160828  25.5\n",
       "34880  20160829  20.6\n",
       "34881  20160830  20.4\n",
       "34882  20160831  21.0\n",
       "\n",
       "[34883 rows x 2 columns]"
      ]
     },
     "execution_count": 17,
     "metadata": {},
     "output_type": "execute_result"
    }
   ],
   "source": [
    "orly['TG'] = orly['TG'].div(10)\n",
    "orly"
   ]
  },
  {
   "cell_type": "code",
   "execution_count": 18,
   "metadata": {},
   "outputs": [
    {
     "data": {
      "text/plain": [
       "DATE    0\n",
       "TG      0\n",
       "dtype: int64"
      ]
     },
     "execution_count": 18,
     "metadata": {},
     "output_type": "execute_result"
    }
   ],
   "source": [
    "orly.isna().sum()"
   ]
  },
  {
   "cell_type": "code",
   "execution_count": 19,
   "metadata": {},
   "outputs": [
    {
     "name": "stdout",
     "output_type": "stream",
     "text": [
      "<class 'pandas.core.frame.DataFrame'>\n",
      "RangeIndex: 34883 entries, 0 to 34882\n",
      "Data columns (total 2 columns):\n",
      " #   Column  Non-Null Count  Dtype  \n",
      "---  ------  --------------  -----  \n",
      " 0   DATE    34883 non-null  int64  \n",
      " 1   TG      34883 non-null  float64\n",
      "dtypes: float64(1), int64(1)\n",
      "memory usage: 545.2 KB\n"
     ]
    }
   ],
   "source": [
    "orly.info()"
   ]
  },
  {
   "cell_type": "code",
   "execution_count": 20,
   "metadata": {},
   "outputs": [
    {
     "data": {
      "text/html": [
       "<div>\n",
       "<style scoped>\n",
       "    .dataframe tbody tr th:only-of-type {\n",
       "        vertical-align: middle;\n",
       "    }\n",
       "\n",
       "    .dataframe tbody tr th {\n",
       "        vertical-align: top;\n",
       "    }\n",
       "\n",
       "    .dataframe thead th {\n",
       "        text-align: right;\n",
       "    }\n",
       "</style>\n",
       "<table border=\"1\" class=\"dataframe\">\n",
       "  <thead>\n",
       "    <tr style=\"text-align: right;\">\n",
       "      <th></th>\n",
       "      <th>DATE</th>\n",
       "      <th>TG</th>\n",
       "    </tr>\n",
       "  </thead>\n",
       "  <tbody>\n",
       "    <tr>\n",
       "      <th>count</th>\n",
       "      <td>3.488300e+04</td>\n",
       "      <td>34883.000000</td>\n",
       "    </tr>\n",
       "    <tr>\n",
       "      <th>mean</th>\n",
       "      <td>1.968482e+07</td>\n",
       "      <td>-231.823358</td>\n",
       "    </tr>\n",
       "    <tr>\n",
       "      <th>std</th>\n",
       "      <td>2.757153e+05</td>\n",
       "      <td>432.177821</td>\n",
       "    </tr>\n",
       "    <tr>\n",
       "      <th>min</th>\n",
       "      <td>1.921030e+07</td>\n",
       "      <td>-999.900000</td>\n",
       "    </tr>\n",
       "    <tr>\n",
       "      <th>25%</th>\n",
       "      <td>1.945011e+07</td>\n",
       "      <td>-2.800000</td>\n",
       "    </tr>\n",
       "    <tr>\n",
       "      <th>50%</th>\n",
       "      <td>1.968113e+07</td>\n",
       "      <td>8.200000</td>\n",
       "    </tr>\n",
       "    <tr>\n",
       "      <th>75%</th>\n",
       "      <td>1.992102e+07</td>\n",
       "      <td>15.000000</td>\n",
       "    </tr>\n",
       "    <tr>\n",
       "      <th>max</th>\n",
       "      <td>2.016083e+07</td>\n",
       "      <td>31.600000</td>\n",
       "    </tr>\n",
       "  </tbody>\n",
       "</table>\n",
       "</div>"
      ],
      "text/plain": [
       "               DATE            TG\n",
       "count  3.488300e+04  34883.000000\n",
       "mean   1.968482e+07   -231.823358\n",
       "std    2.757153e+05    432.177821\n",
       "min    1.921030e+07   -999.900000\n",
       "25%    1.945011e+07     -2.800000\n",
       "50%    1.968113e+07      8.200000\n",
       "75%    1.992102e+07     15.000000\n",
       "max    2.016083e+07     31.600000"
      ]
     },
     "execution_count": 20,
     "metadata": {},
     "output_type": "execute_result"
    }
   ],
   "source": [
    "orly.describe()"
   ]
  },
  {
   "cell_type": "code",
   "execution_count": 21,
   "metadata": {},
   "outputs": [
    {
     "data": {
      "text/plain": [
       "0   -999.9\n",
       "dtype: float64"
      ]
     },
     "execution_count": 21,
     "metadata": {},
     "output_type": "execute_result"
    }
   ],
   "source": [
    "orly.TG.mode()"
   ]
  },
  {
   "cell_type": "code",
   "execution_count": 22,
   "metadata": {},
   "outputs": [],
   "source": [
    "#idxmin\n",
    "# connaitre dates pr lesquelles -999"
   ]
  },
  {
   "cell_type": "code",
   "execution_count": 23,
   "metadata": {},
   "outputs": [],
   "source": [
    "orly.loc[orly['TG'] < -999] = np.nan\n",
    "# replace cells equale to -999.9 by np.nan"
   ]
  },
  {
   "cell_type": "code",
   "execution_count": 25,
   "metadata": {},
   "outputs": [
    {
     "data": {
      "text/plain": [
       "DATE    8387\n",
       "TG      8387\n",
       "dtype: int64"
      ]
     },
     "execution_count": 25,
     "metadata": {},
     "output_type": "execute_result"
    }
   ],
   "source": [
    "orly.isna().sum()"
   ]
  },
  {
   "cell_type": "markdown",
   "metadata": {},
   "source": [
    "**15) Create a pandas Time Series with the daily temperatures between January 1 2007 and April 3 2007. Display on the same graph the temperature and the Global_active_power Time Series.**"
   ]
  },
  {
   "cell_type": "code",
   "execution_count": 26,
   "metadata": {},
   "outputs": [
    {
     "data": {
      "text/html": [
       "<div>\n",
       "<style scoped>\n",
       "    .dataframe tbody tr th:only-of-type {\n",
       "        vertical-align: middle;\n",
       "    }\n",
       "\n",
       "    .dataframe tbody tr th {\n",
       "        vertical-align: top;\n",
       "    }\n",
       "\n",
       "    .dataframe thead th {\n",
       "        text-align: right;\n",
       "    }\n",
       "</style>\n",
       "<table border=\"1\" class=\"dataframe\">\n",
       "  <thead>\n",
       "    <tr style=\"text-align: right;\">\n",
       "      <th></th>\n",
       "      <th>TG</th>\n",
       "    </tr>\n",
       "    <tr>\n",
       "      <th>DATE</th>\n",
       "      <th></th>\n",
       "    </tr>\n",
       "  </thead>\n",
       "  <tbody>\n",
       "    <tr>\n",
       "      <th>1921-03-01</th>\n",
       "      <td>5.0</td>\n",
       "    </tr>\n",
       "    <tr>\n",
       "      <th>1921-03-02</th>\n",
       "      <td>4.6</td>\n",
       "    </tr>\n",
       "    <tr>\n",
       "      <th>1921-03-03</th>\n",
       "      <td>4.6</td>\n",
       "    </tr>\n",
       "    <tr>\n",
       "      <th>1921-03-04</th>\n",
       "      <td>3.1</td>\n",
       "    </tr>\n",
       "    <tr>\n",
       "      <th>1921-03-05</th>\n",
       "      <td>9.5</td>\n",
       "    </tr>\n",
       "    <tr>\n",
       "      <th>...</th>\n",
       "      <td>...</td>\n",
       "    </tr>\n",
       "    <tr>\n",
       "      <th>2016-08-27</th>\n",
       "      <td>26.6</td>\n",
       "    </tr>\n",
       "    <tr>\n",
       "      <th>2016-08-28</th>\n",
       "      <td>25.5</td>\n",
       "    </tr>\n",
       "    <tr>\n",
       "      <th>2016-08-29</th>\n",
       "      <td>20.6</td>\n",
       "    </tr>\n",
       "    <tr>\n",
       "      <th>2016-08-30</th>\n",
       "      <td>20.4</td>\n",
       "    </tr>\n",
       "    <tr>\n",
       "      <th>2016-08-31</th>\n",
       "      <td>21.0</td>\n",
       "    </tr>\n",
       "  </tbody>\n",
       "</table>\n",
       "<p>34883 rows × 1 columns</p>\n",
       "</div>"
      ],
      "text/plain": [
       "              TG\n",
       "DATE            \n",
       "1921-03-01   5.0\n",
       "1921-03-02   4.6\n",
       "1921-03-03   4.6\n",
       "1921-03-04   3.1\n",
       "1921-03-05   9.5\n",
       "...          ...\n",
       "2016-08-27  26.6\n",
       "2016-08-28  25.5\n",
       "2016-08-29  20.6\n",
       "2016-08-30  20.4\n",
       "2016-08-31  21.0\n",
       "\n",
       "[34883 rows x 1 columns]"
      ]
     },
     "execution_count": 26,
     "metadata": {},
     "output_type": "execute_result"
    }
   ],
   "source": [
    "orly['DATE'] = pd.to_datetime(orly['DATE'], format='%Y%m%d')\n",
    "orly = orly.set_index('DATE')\n",
    "orly"
   ]
  },
  {
   "cell_type": "code",
   "execution_count": 28,
   "metadata": {},
   "outputs": [
    {
     "data": {
      "text/plain": [
       "Text(0, 0.5, 'Temperature (°C)')"
      ]
     },
     "execution_count": 28,
     "metadata": {},
     "output_type": "execute_result"
    },
    {
     "data": {
      "image/png": "[encoded data removed]",
      "text/plain": [
       "<Figure size 432x288 with 1 Axes>"
      ]
     },
     "metadata": {
      "needs_background": "light"
     },
     "output_type": "display_data"
    }
   ],
   "source": [
    "import matplotlib.pyplot as plt\n",
    "orly.plot()\n",
    "plt.xlabel('Year')\n",
    "plt.ylabel('Temperature (°C)')"
   ]
  },
  {
   "cell_type": "code",
   "execution_count": 31,
   "metadata": {},
   "outputs": [
    {
     "data": {
      "text/plain": [
       "Text(0, 0.5, 'Temperature (°C)')"
      ]
     },
     "execution_count": 31,
     "metadata": {},
     "output_type": "execute_result"
    },
    {
     "data": {
      "image/png": "[encoded data removed]",
      "text/plain": [
       "<Figure size 432x288 with 1 Axes>"
      ]
     },
     "metadata": {
      "needs_background": "light"
     },
     "output_type": "display_data"
    }
   ],
   "source": [
    "orly2 = orly.loc['2007-01-01':'2007-04-30'] \n",
    "orly2.plot()\n",
    "plt.xlabel('Year')\n",
    "plt.ylabel('Temperature (°C)')"
   ]
  },
  {
   "cell_type": "code",
   "execution_count": 53,
   "metadata": {},
   "outputs": [
    {
     "data": {
      "text/plain": [
       "<matplotlib.axes._subplots.AxesSubplot at 0x7fc881032f40>"
      ]
     },
     "execution_count": 53,
     "metadata": {},
     "output_type": "execute_result"
    },
    {
     "data": {
      "image/png": "[encoded data removed]",
      "text/plain": [
       "<Figure size 432x288 with 1 Axes>"
      ]
     },
     "metadata": {},
     "output_type": "display_data"
    }
   ],
   "source": [
    "ax = df3.plot()\n",
    "orly2.plot(ax=ax)\n",
    "# A améliorer: créer 2ème axe y"
   ]
  },
  {
   "cell_type": "code",
   "execution_count": 83,
   "metadata": {},
   "outputs": [
    {
     "data": {
      "image/png": "[encoded data removed]",
      "text/plain": [
       "<Figure size 432x288 with 2 Axes>"
      ]
     },
     "metadata": {},
     "output_type": "display_data"
    }
   ],
   "source": [
    "import numpy as np\n",
    "import matplotlib.pyplot as plt\n",
    "\n",
    "# Create some mock data\n",
    "t = orly2.index\n",
    "data1 = df3['Global_active_power']\n",
    "data2 = orly2['TG']\n",
    "\n",
    "fig, ax1 = plt.subplots()\n",
    "\n",
    "color = 'tab:red'\n",
    "ax1.set_xlabel('Daily average')\n",
    "ax1.set_ylabel('Household global active power (in kilowatt)', color=color)\n",
    "ax1.plot(t, data1, color=color)\n",
    "\n",
    "ax2 = ax1.twinx()  # instantiate a second axes that shares the same x-axis\n",
    "\n",
    "color = 'tab:blue'\n",
    "ax2.set_ylabel('Temperature (in °C)', color=color)  # we already handled the x-label with ax1\n",
    "ax2.plot(t, data2, color=color)\n",
    "\n",
    "fig.autofmt_xdate()\n",
    "\n",
    "plt.show()\n",
    "\n"
   ]
  },
  {
   "cell_type": "code",
   "execution_count": 84,
   "metadata": {},
   "outputs": [
    {
     "name": "stdout",
     "output_type": "stream",
     "text": [
      "lab_1_intro_batoul_mathis_and_fialho_louis.ipynb\n"
     ]
    }
   ],
   "source": [
    "# Change here using YOUR first and last names\n",
    "fn1 = \"Mathis\"\n",
    "ln1 = \"Batoul\"\n",
    "fn2 = \"Louis\"\n",
    "ln2 = \"Fialho\"\n",
    "filename = \"_\".join(map(lambda s: s.strip().lower(),\n",
    "[\"lab_1_intro\", ln1, fn1, \"and\", ln2, fn2])) + \".ipynb\"\n",
    "print(filename)"
   ]
  }
 ],
 "metadata": {
  "kernelspec": {
   "display_name": "Python 3",
   "language": "python",
   "name": "python3"
  },
  "language_info": {
   "codemirror_mode": {
    "name": "ipython",
    "version": 3
   },
   "file_extension": ".py",
   "mimetype": "text/x-python",
   "name": "python",
   "nbconvert_exporter": "python",
   "pygments_lexer": "ipython3",
   "version": "3.8.3"
  }
 },
 "nbformat": 4,
 "nbformat_minor": 4
}
